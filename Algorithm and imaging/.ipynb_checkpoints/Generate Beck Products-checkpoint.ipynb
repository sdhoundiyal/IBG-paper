{
 "cells": [
  {
   "cell_type": "code",
   "execution_count": 1,
   "metadata": {},
   "outputs": [
    {
     "data": {
      "text/html": [
       "<style>.container { width:100% !important; }</style>"
      ],
      "text/plain": [
       "<IPython.core.display.HTML object>"
      ]
     },
     "metadata": {},
     "output_type": "display_data"
    }
   ],
   "source": [
    "#import required package\n",
    "from __future__ import division\n",
    "import numpy as np\n",
    "import matplotlib\n",
    "import matplotlib.pyplot as plt\n",
    "import spectral.io.envi as envi\n",
    "import os\n",
    "import re\n",
    "import math\n",
    "from scipy import signal\n",
    "from scipy import ndimage\n",
    "from scipy import spatial\n",
    "from scipy import stats\n",
    "from scipy import interpolate\n",
    "import traceback\n",
    "import sys\n",
    "import pickle\n",
    "import warnings\n",
    "import pandas as pd\n",
    "from pprint import pprint\n",
    "from sklearn.preprocessing import minmax_scale\n",
    "from PIL import Image\n",
    "from IPython.core.display import display, HTML\n",
    "display(HTML(\"<style>.container { width:100% !important; }</style>\"))"
   ]
  },
  {
   "cell_type": "code",
   "execution_count": 2,
   "metadata": {},
   "outputs": [],
   "source": [
    "#file mangement generates a list containing a pth to all hdr files of pre-processed observations\n",
    "def get_all_processed_HDR_addresses(parentDirectory):\n",
    "    observationFiles=[]\n",
    "    \n",
    "    for (dirpath, dirnames, filenames) in os.walk(parentDirectory):\n",
    "        observationFiles.extend(filenames)\n",
    "        break\n",
    "    ObservationImageAddresses=[]\n",
    "    \n",
    "    hdrPattern=\".hdr\"\n",
    "    for i in observationFiles:\n",
    "        if re.search(hdrPattern,i):\n",
    "            ObservationImageAddresses.append(parentDirectory+'/'+i)\n",
    "    return ObservationImageAddresses"
   ]
  },
  {
   "cell_type": "code",
   "execution_count": 3,
   "metadata": {},
   "outputs": [],
   "source": [
    "#read hrd files for wavlengths of all bands\n",
    "def read_CRISM_Image_wavelengths(headerFileAddress):\n",
    "    wavelengthFile=\"J:/IIT/user/Documents/CRISM Multispectral Exploration/Processed_observations/wavelength_list.txt\"\n",
    "    \n",
    "    currentObservationHeader=envi.open(headerFileAddress)\n",
    "    currentObservationImage=currentObservationHeader.open_memmap()\n",
    "    currentObservationArray=np.array(currentObservationImage)\n",
    "    #currentObservationArray=spectral.open_image(i)\n",
    "\n",
    "    #read wavelengths from saved wavelength file\n",
    "    with open (wavelengthFile, 'rb') as fp:\n",
    "        wavelengthsOfCurrentObservation=pickle.load(fp)\n",
    "    return currentObservationArray,wavelengthsOfCurrentObservation"
   ]
  },
  {
   "cell_type": "code",
   "execution_count": 4,
   "metadata": {},
   "outputs": [],
   "source": [
    "#find index of wavelngth closest to given wavelength\n",
    "def find_nearest(wavelength_list,value): #find wavelength value in list closest to given value\n",
    "    idx = np.searchsorted(wavelength_list, value, side=\"left\")\n",
    "    if idx > 0 and (idx == len(wavelength_list) or math.fabs(value - wavelength_list[idx-1]) < math.fabs(value - wavelength_list[idx])):\n",
    "        return wavelength_list[idx-1]\n",
    "    else:\n",
    "        return wavelength_list[idx]\n",
    "\n",
    "def find_wavelength_index(wavelength_list,item): #return index of in the array\n",
    "    first = 0\n",
    "    last = len(wavelength_list)-1\n",
    "    found = False\n",
    "    while( first<=last and not found):\n",
    "        mid = (first + last)//2\n",
    "        if wavelength_list[mid] == item :\n",
    "            found = True\n",
    "        else:\n",
    "            if item < wavelength_list[mid]:\n",
    "                last = mid - 1\n",
    "            else:\n",
    "                first = mid + 1\t\n",
    "    return mid\n",
    "def find_nearest_index(wavelength_list,wavelength): #get wavelength in index closest to gicen wavelength and return its index\n",
    "    (nearest_index,nearest_wavelength)=min(enumerate(wavelength_list), key=lambda x: abs(x[1]-wavelength))\n",
    "    return nearest_index\n",
    "def find_nearest_index_for_list(wavelength_list,wavelengths): # find index of nearest value for a list of given values\n",
    "    indices=[]\n",
    "    for i in wavelengths:\n",
    "        indices.append(find_nearest_index(wavelength_list,i))\n",
    "    return indices"
   ]
  },
  {
   "cell_type": "code",
   "execution_count": 5,
   "metadata": {},
   "outputs": [],
   "source": [
    "# given a hyperspectral datacube and wavelengths to serve as upper and lower thresholds subset the datacube along the spectral direction\n",
    "def get_spectral_subset(datacube,wavelength_list,lower_threshold,upper_threshold): #returns spectral subset from lower to upper threshold ( 1.2 to 2.6 micrometer for CRISM IR)\n",
    "    lower_threshold_index=find_wavelength_index(wavelength_list,lower_threshold)\n",
    "    upper_threshold_index=find_wavelength_index(wavelength_list,upper_threshold)\n",
    "    thresholdedDatacube=datacube[:,:,lower_threshold_index:upper_threshold_index+1]\n",
    "    thresholdedWavelengthList=wavelength_list[lower_threshold_index:upper_threshold_index+1]\n",
    "    return thresholdedDatacube,thresholdedWavelengthList"
   ]
  },
  {
   "cell_type": "code",
   "execution_count": 6,
   "metadata": {},
   "outputs": [],
   "source": [
    "#given a spectral object and a wavelength list extract spectra resample them to the given wavelenght list resolution\n",
    "def getResampledSpectra(spectralObject,wavelengthList):\n",
    "    #read an NxM numpy array containing N spectra with M bands\n",
    "    spectras=spectralObject.spectra \n",
    "    #read an array with wavelengths corresponding to each band\n",
    "    sourceWavelengthList=spectralObject.bands.centers \n",
    "    #find no of bands in CRISM image\n",
    "    noOfBands=np.shape(wavelengthList)[0] \n",
    "    # calculate number of spectras\n",
    "    noOfSpectra=np.shape(spectras)[0]\n",
    "    # create an array to store the resampled spectras\n",
    "    resampledSpectras=np.zeros((noOfSpectra,noOfBands))\n",
    "    #create a resampler\n",
    "    resampler=BandResampler(sourceWavelengthList,wavelengthList)\n",
    "    #iterate over all spectra\n",
    "    for i in range(noOfSpectra):\n",
    "        #resample a spectra\n",
    "        resampledSpectras[i,:]=resampler(spectras[i,:])\n",
    "    return resampledSpectras,spectralObject.names"
   ]
  },
  {
   "cell_type": "code",
   "execution_count": 7,
   "metadata": {},
   "outputs": [],
   "source": [
    "#given spectral object get original spectra and accompaning wavelength list\n",
    "def getOriginalSpectra(spectralObject):\n",
    "    #read an NxM numpy array containing N spectra with M bands\n",
    "    spectras=spectralObject.spectra \n",
    "    #read an array with wavelengths corresponding to each band\n",
    "    sourceWavelengthList=spectralObject.bands.centers \n",
    "    \n",
    "    return spectras,spectralObject.names,sourceWavelengthList"
   ]
  },
  {
   "cell_type": "code",
   "execution_count": 8,
   "metadata": {},
   "outputs": [],
   "source": [
    "# threshold image at 2.6 micrometer\n",
    "def preProcessImage(imageHeaderAddress): # given address of a CRISM header file, read the data, deal with NaN values and apply spectral subset\n",
    "    datacube,wavelength_list=read_CRISM_Image_wavelengths(imageHeaderAddress) #read image and wavelength_list\n",
    "    datacube=np.where(np.logical_and(datacube>0,datacube<1),datacube,0)\n",
    "    lower_threshold_for_spectral_subset=1.0\n",
    "    upper_threshold_for_spectral_subset=2.59 #define wavelength threshold (CRISM data too noisy post 2.6 micrometer)\n",
    "    datacube,wavelength_list=get_spectral_subset(datacube,wavelength_list,lower_threshold_for_spectral_subset,upper_threshold_for_spectral_subset)\n",
    "    return datacube,wavelength_list"
   ]
  },
  {
   "cell_type": "code",
   "execution_count": 9,
   "metadata": {},
   "outputs": [],
   "source": [
    "#calculate mean relfectance at wavelength with defined kernel size for datacube\n",
    "def calcualteReflectaneAtWavelength(wavelength,kernelSize):\n",
    "    global slicedCube\n",
    "    global wavelengthList\n",
    "    targetWavelength=find_nearest(wavelengthList,wavelength) #find nearest wavelength value in list\n",
    "    targetWavelengthIndex=find_nearest_index(wavelengthList,wavelength) \n",
    "    BandAtWavelength=slicedCube[:,:,targetWavelengthIndex]\n",
    "    for i in range(targetWavelengthIndex-math.floor(kernelSize/2),targetWavelengthIndex+math.floor(kernelSize/2)):\n",
    "        BandAtWavelength=np.add(slicedCube[:,:,i],BandAtWavelength)\n",
    "    BandAtWavelength=np.subtract(BandAtWavelength,slicedCube[:,:,targetWavelengthIndex])\n",
    "    return BandAtWavelength/kernelSize"
   ]
  },
  {
   "cell_type": "code",
   "execution_count": 10,
   "metadata": {},
   "outputs": [],
   "source": [
    "#given a spectra normalize it to the range (0,1)\n",
    "def normalizeSpectra(spectra):\n",
    "    upperLimit=1\n",
    "    lowerLimit=0.0000001\n",
    "    maximumValue=np.amax(spectra)\n",
    "    minimumValue=np.amin(spectra)\n",
    "    normalizedSpectra=(upperLimit-lowerLimit)*(spectra-minimumValue)/(maximumValue-minimumValue)+lowerLimit\n",
    "    return normalizedSpectra"
   ]
  },
  {
   "cell_type": "code",
   "execution_count": 11,
   "metadata": {},
   "outputs": [],
   "source": [
    "#calculate mean relfectance at wavelength with defined kernel size \n",
    "def calcualteReflectaneAtWavelength(wavelength,kernelSize):\n",
    "    global slicedCube\n",
    "    global wavelengthList\n",
    "    targetWavelength=find_nearest(wavelengthList,wavelength) #find nearest wavelength value in list\n",
    "    targetWavelengthIndex=find_nearest_index(wavelengthList,wavelength) \n",
    "    BandAtWavelength=slicedCube[:,:,targetWavelengthIndex]\n",
    "    for i in range(targetWavelengthIndex-math.floor(kernelSize/2),targetWavelengthIndex+math.floor(kernelSize/2)):\n",
    "        BandAtWavelength=np.add(slicedCube[:,:,i],BandAtWavelength)\n",
    "    BandAtWavelength=np.subtract(BandAtWavelength,slicedCube[:,:,targetWavelengthIndex])\n",
    "    return BandAtWavelength/kernelSize"
   ]
  },
  {
   "cell_type": "code",
   "execution_count": 12,
   "metadata": {},
   "outputs": [],
   "source": [
    "#calculate band depth based indices for Fe and Ca/Mg rich carbonates\n",
    "def calculateMIN23AND25():\n",
    "    \n",
    "    global datacube\n",
    "    global wavelengthList\n",
    "    \n",
    "    R2345Wavelength=2.345 #define constant values to calculate indices, wavelengths, and kernel size \n",
    "    R2250Wavelength=2.250\n",
    "    R2430Wavelength=2.430\n",
    "    R2537Wavelength=2.537\n",
    "    R2602Wavelength=2.590#2.602\n",
    "\n",
    "    R2345KernelSize=5\n",
    "    R2250KernelSize=5\n",
    "    R2430KernelSize=5\n",
    "    R2602KernelSize=1\n",
    "    R2537KernelSize=5\n",
    "\n",
    "    R2295Wavelength=2.295\n",
    "    R2165Wavelength=2.165\n",
    "    R2364Wavelength=2.364\n",
    "    R2480Wavelength=2.480\n",
    "    R2570Wavelength=2.570\n",
    "\n",
    "    R2295KernelSize=5\n",
    "    R2165KernelSize=5\n",
    "    R2364KernelSize=5\n",
    "    R2480KernelSize=5\n",
    "    R2570KernelSize=5\n",
    "\n",
    "\n",
    "    bForR2430=(R2345Wavelength-R2250Wavelength)/(R2430Wavelength-R2250Wavelength)\n",
    "    aForR2250=1-bForR2430\n",
    "    bForR2602=(R2537Wavelength-R2430Wavelength)/(R2602Wavelength-R2430Wavelength)\n",
    "    aForR2430=1-bForR2602\n",
    "\n",
    "    bForR2364=(R2295Wavelength-R2165Wavelength)/(R2364Wavelength-R2165Wavelength)\n",
    "    aForR2165=1-bForR2364\n",
    "    bForR2570=(R2480Wavelength-R2364Wavelength)/(R2570Wavelength-R2364Wavelength)\n",
    "    aForR2364=1-bForR2570\n",
    "    \n",
    "    \n",
    "    R2295Reflectance=calcualteReflectaneAtWavelength(R2295Wavelength,R2295KernelSize) #read bands corresponding to wavelengths\n",
    "    R2165Reflectance=calcualteReflectaneAtWavelength(R2165Wavelength,R2165KernelSize)\n",
    "    R2364Reflectance=calcualteReflectaneAtWavelength(R2364Wavelength,R2364KernelSize)\n",
    "    R2480Reflectance=calcualteReflectaneAtWavelength(R2480Wavelength,R2480KernelSize)\n",
    "    R2570Reflectance=calcualteReflectaneAtWavelength(R2570Wavelength,R2570KernelSize)\n",
    "\n",
    "    temp1Den=np.add(aForR2165*R2165Reflectance,bForR2364*R2364Reflectance) # calculation for MIN2295_2480 minimum band depth at 2.3 and 2.5 micrometer \n",
    "    temp2Den=np.add(aForR2364*R2364Reflectance,bForR2570*R2570Reflectance)\n",
    "    temp3=np.full_like(R2570Reflectance,2.0)\n",
    "    \n",
    "    temp1=np.divide(R2295Reflectance,temp1Den,temp3,where=np.logical_and(temp2Den>0,temp2Den<1))\n",
    "    temp1=np.subtract(np.full_like(R2570Reflectance,1),temp1)\n",
    "    temp3=np.full_like(R2570Reflectance,2.0)\n",
    "    temp2=np.divide(R2480Reflectance,temp2Den,temp3,where=np.logical_and(temp2Den>0,temp2Den<1))\n",
    "    temp2=np.subtract(np.full_like(R2570Reflectance,1),temp2)\n",
    "    MIN2295_2480=np.minimum(temp1,temp2)\n",
    "    \n",
    "    R2345Reflectance=calcualteReflectaneAtWavelength(R2345Wavelength,R2345KernelSize) #read bands corresponding to wavelengths\n",
    "    R2250Reflectance=calcualteReflectaneAtWavelength(R2250Wavelength,R2250KernelSize)\n",
    "    R2430Reflectance=calcualteReflectaneAtWavelength(R2430Wavelength,R2430KernelSize)\n",
    "    R2537Reflectance=calcualteReflectaneAtWavelength(R2537Wavelength,R2537KernelSize)\n",
    "    R2602Reflectance=calcualteReflectaneAtWavelength(R2602Wavelength,R2602KernelSize)\n",
    "    \n",
    "    temp1Den=np.add(aForR2250*R2250Reflectance,bForR2430*R2430Reflectance) # calculation for MIN2345_2537 minimum band depth at 2.33 and 2.53 micrometer\n",
    "    temp2Den=np.add(aForR2430*R2250Reflectance,bForR2602*R2602Reflectance)\n",
    "    temp3=np.full_like(R2345Reflectance,2.0)\n",
    "    \n",
    "    temp1=np.divide(R2345Reflectance,temp1Den,temp3,where=np.logical_and(temp2Den>0,temp2Den<1))\n",
    "    temp1=np.subtract(np.full_like(R2345Reflectance,1),temp1)\n",
    "    temp3=np.full_like(R2345Reflectance,2.0)\n",
    "    temp2=np.divide(R2537Reflectance,temp2Den,temp3,where=np.logical_and(temp2Den>0,temp2Den<1))\n",
    "    temp2=np.subtract(np.full_like(R2345Reflectance,1),temp2)\n",
    "    MIN2345_2537=np.minimum(temp1,temp2)\n",
    "    \n",
    "    return MIN2295_2480,MIN2345_2537"
   ]
  },
  {
   "cell_type": "code",
   "execution_count": 13,
   "metadata": {},
   "outputs": [],
   "source": [
    "#create a function to calculate CINDEX2\n",
    "def calcCINDEX2():\n",
    "    #get datacube and wavelength List\n",
    "    global datcube\n",
    "    global wavelengthList\n",
    "    \n",
    "    #define the wavelengths for the parameters\n",
    "    R3450Wavelength=3.450\n",
    "    R3875Wavelength=3.875\n",
    "    R3610Wavelength=3.610\n",
    "    \n",
    "    #define the kernel size for smoothing at the wavelengths\n",
    "    R3450KernelSize=9\n",
    "    R3610KernelSize=11\n",
    "    R3875KernelSize=7\n",
    "    \n",
    "    #define constants to calculate inverse band-depth\n",
    "    b=(R3610Wavelength-R3450Wavelength)/(R3875Wavelength-R3610Wavelength)\n",
    "    a=1-b\n",
    "    \n",
    "    #get reflectances at the right wavelengths\n",
    "    R3450Reflectance=calcualteReflectaneAtWavelength(R3450Wavelength,R3450KernelSize)\n",
    "    R3875Reflectance=calcualteReflectaneAtWavelength(R3875Wavelength,R3875KernelSize)\n",
    "    R3610Reflectance=calcualteReflectaneAtWavelength(R3610Wavelength,R3610KernelSize)\n",
    "    \n",
    "    cindex2=1-(a*R3450Reflectance+b*R3875Reflectance)/R3610Reflectance\n",
    "    return cindex2"
   ]
  },
  {
   "cell_type": "code",
   "execution_count": 14,
   "metadata": {},
   "outputs": [],
   "source": [
    "#create a function to calculate CINDEX2\n",
    "def calcOLINDEX3():\n",
    "    #get datacube and wavelength List\n",
    "    global datacube\n",
    "    global wavelengthList\n",
    "    \n",
    "    #define the anchor wavelengths\n",
    "    R2400Wavelength=2.400\n",
    "    R1750Wavelength=1.750\n",
    "    \n",
    "    #store them in an array\n",
    "    wavelengthsToSample=[1.080,1.152,1.210,1.250,1.263,1.276,1.330,1.368,1.395,1.427,1.470]\n",
    "    #define the weights for each wavelegnth\n",
    "    wavelengthWeights=[0.03,0.03,0.03,0.03,0.07,0.07,0.12,0.12,0.14,0.18,0.18]\n",
    "\n",
    "    #define the kernel size for smoothing at the wavelengths\n",
    "    wavelengthKernels=[1,1,7,7,7,7,7,1,1,1,1]\n",
    "    R1750KernelSize=7\n",
    "    R2400KernelSize=7\n",
    "    \n",
    "    #create an array to hold OLINDEX2\n",
    "    OLINDEX3=np.zeros_like(datacube[:,:,0])\n",
    "    \n",
    "    #get reflectance at the anchors\n",
    "    \n",
    "    R1750Reflectance=calcualteReflectaneAtWavelength(R1750Wavelength,R1750KernelSize)\n",
    "    R2400Reflectance=calcualteReflectaneAtWavelength(R2400Wavelength,R2400KernelSize)\n",
    "    \n",
    "    #iterate through all sample wavlengths to calculate the parameter\n",
    "    for i in range(len(wavelengthKernels)):\n",
    "        #get the current band\n",
    "        rIReflectance=calcualteReflectaneAtWavelength(wavelengthsToSample[i],wavelengthKernels[i])\n",
    "        #calcuate the parameters\n",
    "        b=(R2400Wavelength-wavelengthsToSample[i])/(R2400Wavelength-R1750Wavelength)\n",
    "        a=1-b\n",
    "        #get current band depth\n",
    "        bd=((a*R1750Reflectance+b*R2400Reflectance)-rIReflectance)/(a*R1750Reflectance+b*R2400Reflectance)\n",
    "        #weight and add the band depth\n",
    "        OLINDEX3=OLINDEX3+bd*wavelengthWeights[i]\n",
    "    return OLINDEX3"
   ]
  },
  {
   "cell_type": "code",
   "execution_count": 15,
   "metadata": {},
   "outputs": [],
   "source": [
    "#create a function to calculate D2300\n",
    "def calcD2300():\n",
    "    #get datacube and wavelength List\n",
    "    global datacube\n",
    "    global wavelengthList\n",
    "    \n",
    "    #define the anchor wavelengths\n",
    "    R2530Wavelength=2.530\n",
    "    R1815Wavelength=1.815\n",
    "    \n",
    "    #store them in an array\n",
    "    numeratorWavelengths=[2.290,2.320,2.330]\n",
    "    denominatorWavelengths=[2.120,2.170,2.210]\n",
    "    #define the weights for each wavelegnth\n",
    "    #define the kernel size for smoothing at the wavelengths\n",
    "    numeratorKernels=[3,3,3]\n",
    "    denominatorKernels=[5,5,5]\n",
    "    R1851KernelSize=5\n",
    "    R2530KernelSize=5\n",
    "    \n",
    "    #create an array to hold numberator\n",
    "    D2300N=np.zeros_like(datacube[:,:,0])\n",
    "    \n",
    "    #get reflectance at the anchors\n",
    "    R1815Reflectance=calcualteReflectaneAtWavelength(R1815Wavelength,R1851KernelSize)\n",
    "    R2530Reflectance=calcualteReflectaneAtWavelength(R2530Wavelength,R2530KernelSize)\n",
    "    \n",
    "    #iterate through all numberators wavlengths\n",
    "    for i in range(len(numeratorWavelengths)):\n",
    "        #get the current band\n",
    "        rIReflectance=calcualteReflectaneAtWavelength(numeratorWavelengths[i],numeratorKernels[i])\n",
    "        #calcuate the parameters\n",
    "        b=(R2530Wavelength-numeratorWavelengths[i])/(R2530Wavelength-R1815Wavelength)\n",
    "        a=1-b\n",
    "        #weight and add the band depth\n",
    "        D2300N=D2300N+rIReflectance/(a*R1815Reflectance+b*R2530Reflectance)\n",
    "    \n",
    "    #create an array to hold numberator\n",
    "    D2300D=np.zeros_like(datacube[:,:,0])\n",
    "    #iterate through all numberators wavlengths\n",
    "    for i in range(len(denominatorWavelengths)):\n",
    "        #get the current band\n",
    "        rIReflectance=calcualteReflectaneAtWavelength(denominatorWavelengths[i],denominatorKernels[i])\n",
    "        #calcuate the parameters\n",
    "        b=(R2530Wavelength-denominatorWavelengths[i])/(R2530Wavelength-R1815Wavelength)\n",
    "        a=1-b\n",
    "        #weight and add the band depth\n",
    "        D2300D=D2300D+rIReflectance/(a*R1815Reflectance+b*R2530Reflectance)\n",
    "    #calculate the parameter\n",
    "    return 1-(D2300N/D2300D)"
   ]
  },
  {
   "cell_type": "code",
   "execution_count": 16,
   "metadata": {},
   "outputs": [],
   "source": [
    "#create a function to calculate BD2500H\n",
    "def calcBD2500_2():\n",
    "    #get datacube and wavelength List\n",
    "    global datacube\n",
    "    global wavelengthList\n",
    "    \n",
    "    #define the wavelengths for the parameters\n",
    "    R2480Wavelength=2.480\n",
    "    R2364Wavelength=2.364\n",
    "    R2570Wavelength=2.570\n",
    "    \n",
    "    #define the kernel size for smoothing at the wavelengths\n",
    "    R2570KernelSize=1\n",
    "    R2364KernelSize=1\n",
    "    R2480KernelSize=1\n",
    "    \n",
    "    #define constants to calculate inverse band-depth\n",
    "    b=(R2570Wavelength-R2480Wavelength)/(R2570Wavelength-R2364Wavelength)\n",
    "    a=1-b\n",
    "    #get reflectances at the right wavelengths\n",
    "    R2480Reflectance=calcualteReflectaneAtWavelength(R2480Wavelength,R2480KernelSize)\n",
    "    R2364Reflectance=calcualteReflectaneAtWavelength(R2364Wavelength,R2364KernelSize)\n",
    "    R2570Reflectance=calcualteReflectaneAtWavelength(R2570Wavelength,R2570KernelSize)\n",
    "    BD2500_2=1-R2480Reflectance/(a*R2364Reflectance+b*R2570Reflectance)\n",
    "    return BD2500_2"
   ]
  },
  {
   "cell_type": "code",
   "execution_count": 17,
   "metadata": {},
   "outputs": [],
   "source": [
    "#given a datacube return its footprint i.e pixels in and out of the scene\n",
    "def getDatacubeFootprint(datacube):\n",
    "    [row,col,bands]=np.shape(datacube)\n",
    "    #create an array to hold footprint of the image\n",
    "    footprint=np.zeros_like(datacube[:,:,0])\n",
    "    #get foot print of in scene pixels\n",
    "    for i in range(row):\n",
    "        for j in range(col):\n",
    "            if 0==datacube[i,j,:].all():\n",
    "                footprint[i,j]=1\n",
    "    return footprint"
   ]
  },
  {
   "cell_type": "code",
   "execution_count": 18,
   "metadata": {},
   "outputs": [
    {
     "name": "stdout",
     "output_type": "stream",
     "text": [
      "G:/0000A546/frt0000a546_07_if165l_trr3_CAT_corr_p.hdr\n"
     ]
    }
   ],
   "source": [
    "headerFileAddress=\"G:/0000A546/frt0000a546_07_if165l_trr3_CAT_corr_p.hdr\"\n",
    "print(headerFileAddress)\n",
    "#datacube,wavelengthList=preProcessImage(i) #get sliced datacube and list of wavelengths corresponding to bands\n",
    "\n",
    "currentObservationHeader=envi.open(headerFileAddress)\n",
    "currentObservationImage=currentObservationHeader.open_memmap()\n",
    "datacube=np.array(currentObservationImage)\n",
    "wavelengthList=np.array(currentObservationHeader.bands.centers)\n",
    "slicedCube=datacube\n",
    "#get teh footprint of the image\n",
    "imageFootprint=np.full_like(datacube[:,:,0],1)\n",
    "[rows,cols,bands]=np.shape(datacube)\n",
    "for i in range(rows):\n",
    "    for j in range(cols):\n",
    "        if (all(v == datacube[i,j,0] for v in datacube[i,j,:])):\n",
    "            imageFootprint[i,j]=-1\n",
    "\n"
   ]
  },
  {
   "cell_type": "code",
   "execution_count": 160,
   "metadata": {},
   "outputs": [
    {
     "name": "stderr",
     "output_type": "stream",
     "text": [
      "C:\\Users\\104D\\AppData\\Local\\Temp/ipykernel_14952/33149049.py:24: RuntimeWarning: invalid value encountered in true_divide\n",
      "  BD2500_2=1-R2480Reflectance/(a*R2364Reflectance+b*R2570Reflectance)\n"
     ]
    }
   ],
   "source": [
    "#calculate MIN indices\n",
    "MIN2295_2480,MIN2345_2537=calculateMIN23AND25()\n",
    "#calculate CINDEX2\n",
    "CINDEX2=calcCINDEX2()\n",
    "#calculate OLINDEX3\n",
    "OLINDEX3=calcOLINDEX3()\n",
    "#calculate D2300\n",
    "D2300=calcD2300()\n",
    "#calculate BD2500_2\n",
    "BD2500_2=calcBD2500_2()\n",
    "#calculate BD1900_2"
   ]
  },
  {
   "cell_type": "code",
   "execution_count": 142,
   "metadata": {},
   "outputs": [],
   "source": [
    "#threshold for only positive values\n",
    "MIN2295_2480[MIN2295_2480<0]=0\n",
    "MIN2345_2537[MIN2345_2537<0]=0\n",
    "CINDEX2[CINDEX2<0]=0\n",
    "OLINDEX3[OLINDEX3<0]=0\n",
    "D2300[D2300<0]=0"
   ]
  },
  {
   "cell_type": "code",
   "execution_count": 161,
   "metadata": {},
   "outputs": [],
   "source": [
    "\n",
    "#remote no-data and NaN values\n",
    "MIN2295_2480[imageFootprint==-1]=np.nan\n",
    "MIN2345_2537[imageFootprint==-1]=np.nan\n",
    "CINDEX2[imageFootprint==-1]=np.nan\n",
    "OLINDEX3[imageFootprint==-1]=np.nan\n",
    "D2300[imageFootprint==-1]=np.nan\n"
   ]
  },
  {
   "cell_type": "code",
   "execution_count": 162,
   "metadata": {},
   "outputs": [],
   "source": [
    "#set quantiles to scale\n",
    "quantileValues=[0.02,0.99]\n",
    "#get 2 and 98th quantile\n",
    "limitThresholdsMIN2295_2480=np.quantile(MIN2295_2480,quantileValues)\n",
    "limitThresholdsMIN2345_2537=np.quantile(MIN2345_2537,quantileValues)\n",
    "limitThresholdsCINDEX2=np.quantile(CINDEX2,quantileValues)\n",
    "limitThresholdsOLINDEX3=np.quantile(OLINDEX3,quantileValues)\n",
    "limitThresholdsD2300=np.quantile(D2300,quantileValues)\n",
    "#specify thersholds from MICA\n",
    "'''limitThresholdsMIN2295_2480=[0,0.0001]\n",
    "limitThresholdsMIN2345_2537=[0,0.0009]\n",
    "limitThresholdsCINDEX2=[0,0.0206]\n",
    "limitThresholdsOLINDEX3=[0.186,0.336]\n",
    "limitThresholdsD2300=np.quantile(D2300,quantileValues)'''\n",
    "#stretch the image\n",
    "MIN2295_2480[np.where(MIN2295_2480<=limitThresholdsMIN2295_2480[0])]=limitThresholdsMIN2295_2480[0]\n",
    "MIN2295_2480[np.where(MIN2295_2480>=limitThresholdsMIN2295_2480[1])]=limitThresholdsMIN2295_2480[1]\n",
    "\n",
    "MIN2345_2537[np.where(MIN2345_2537<=limitThresholdsMIN2345_2537[0])]=limitThresholdsMIN2345_2537[0]\n",
    "MIN2345_2537[np.where(MIN2345_2537>=limitThresholdsMIN2345_2537[1])]=limitThresholdsMIN2345_2537[1]\n",
    "\n",
    "CINDEX2[np.where(CINDEX2<=limitThresholdsCINDEX2[0])]=limitThresholdsCINDEX2[0]\n",
    "CINDEX2[np.where(CINDEX2>=limitThresholdsCINDEX2[1])]=limitThresholdsCINDEX2[1]\n",
    "\n",
    "OLINDEX3[np.where(OLINDEX3<=limitThresholdsOLINDEX3[0])]=limitThresholdsOLINDEX3[0]\n",
    "OLINDEX3[np.where(OLINDEX3>=limitThresholdsOLINDEX3[1])]=limitThresholdsOLINDEX3[1]\n",
    "\n",
    "D2300[np.where(D2300<=limitThresholdsD2300[0])]=limitThresholdsD2300[0]\n",
    "D2300[np.where(D2300>=limitThresholdsD2300[1])]=limitThresholdsD2300[1]\n",
    "\n"
   ]
  },
  {
   "cell_type": "code",
   "execution_count": 163,
   "metadata": {},
   "outputs": [],
   "source": [
    "MIN2295_2480[imageFootprint==-1]=np.nan\n",
    "MIN2345_2537[imageFootprint==-1]=np.nan\n",
    "CINDEX2[imageFootprint==-1]=np.nan\n",
    "OLINDEX3[imageFootprint==-1]=np.nan\n",
    "D2300[imageFootprint==-1]=np.nan\n"
   ]
  },
  {
   "cell_type": "code",
   "execution_count": 164,
   "metadata": {},
   "outputs": [
    {
     "data": {
      "text/plain": [
       "<matplotlib.image.AxesImage at 0x29f4d4bfbb0>"
      ]
     },
     "execution_count": 164,
     "metadata": {},
     "output_type": "execute_result"
    },
    {
     "data": {
      "image/png": "[encoded data removed]",
      "text/plain": [
       "<Figure size 432x288 with 1 Axes>"
      ]
     },
     "metadata": {
      "needs_background": "light"
     },
     "output_type": "display_data"
    }
   ],
   "source": [
    "#plt.imshow(CINDEX2)\n",
    "plt.imshow(MIN2345_2537)"
   ]
  },
  {
   "cell_type": "code",
   "execution_count": 165,
   "metadata": {},
   "outputs": [],
   "source": [
    "#stretch the"
   ]
  },
  {
   "cell_type": "code",
   "execution_count": 166,
   "metadata": {},
   "outputs": [],
   "source": [
    "#scale all values between 0 and 1\n",
    "minimum=OLINDEX3[imageFootprint!=-1].min()\n",
    "maximum=OLINDEX3[imageFootprint!=-1].max()\n",
    "OLINDEX3[imageFootprint==-1]=minimum\n",
    "OLINDEX3=(OLINDEX3-minimum)/(maximum-minimum)\n",
    "OLINDEX3=OLINDEX3*255.999\n",
    "\n",
    "minimum=MIN2295_2480[imageFootprint!=-1].min()\n",
    "maximum=MIN2295_2480[imageFootprint!=-1].max()\n",
    "MIN2295_2480[imageFootprint==-1]=minimum\n",
    "MIN2295_2480=(MIN2295_2480-minimum)/(maximum-minimum)\n",
    "MIN2295_2480=MIN2295_2480*255.999\n",
    "\n",
    "minimum=MIN2345_2537[imageFootprint!=-1].min()\n",
    "maximum=MIN2345_2537[imageFootprint!=-1].max()\n",
    "MIN2345_2537[imageFootprint==-1]=minimum\n",
    "MIN2345_2537=(MIN2345_2537-minimum)/(maximum-minimum)\n",
    "MIN2345_2537=MIN2345_2537*255.999\n",
    "\n",
    "minimum=CINDEX2[imageFootprint!=-1].min()\n",
    "maximum=CINDEX2[imageFootprint!=-1].max()\n",
    "CINDEX2[imageFootprint==-1]=minimum\n",
    "CINDEX2=(CINDEX2-minimum)/(maximum-minimum)\n",
    "CINDEX2=CINDEX2*255.999\n",
    "\n",
    "minimum=D2300[imageFootprint!=-1].min()\n",
    "maximum=D2300[imageFootprint!=-1].max()\n",
    "D2300[imageFootprint==-1]=minimum\n",
    "D2300=(D2300-minimum)/(maximum-minimum)\n",
    "D2300=D2300*255.999"
   ]
  },
  {
   "cell_type": "code",
   "execution_count": 167,
   "metadata": {},
   "outputs": [],
   "source": [
    "MIN2295_2480[imageFootprint==-1]=MIN2295_2480.max()\n",
    "MIN2345_2537[imageFootprint==-1]=MIN2345_2537.max()\n",
    "CINDEX2[imageFootprint==-1]=CINDEX2.max()\n",
    "OLINDEX3[imageFootprint==-1]=OLINDEX3.max()\n",
    "D2300[imageFootprint==-1]=D2300.max()"
   ]
  },
  {
   "cell_type": "code",
   "execution_count": null,
   "metadata": {},
   "outputs": [],
   "source": [
    "MIN2295_2480[imageFootprint==-1]=np.nan\n",
    "MIN2345_2537[imageFootprint==-1]=np.nan\n",
    "CINDEX2[imageFootprint==-1]=np.nan\n",
    "OLINDEX3[imageFootprint==-1]=np.nan\n",
    "D2300[imageFootprint==-1]=np.nan\n"
   ]
  },
  {
   "cell_type": "code",
   "execution_count": 172,
   "metadata": {},
   "outputs": [
    {
     "ename": "AttributeError",
     "evalue": "'list' object has no attribute '__array_interface__'",
     "output_type": "error",
     "traceback": [
      "\u001b[1;31m---------------------------------------------------------------------------\u001b[0m",
      "\u001b[1;31mAttributeError\u001b[0m                            Traceback (most recent call last)",
      "\u001b[1;32m~\\AppData\\Local\\Temp/ipykernel_14952/1975653617.py\u001b[0m in \u001b[0;36m<module>\u001b[1;34m\u001b[0m\n\u001b[0;32m      1\u001b[0m \u001b[1;31m#plt.imshow(CINDEX2)\u001b[0m\u001b[1;33m\u001b[0m\u001b[1;33m\u001b[0m\u001b[0m\n\u001b[1;32m----> 2\u001b[1;33m \u001b[0mplt\u001b[0m\u001b[1;33m.\u001b[0m\u001b[0mimshow\u001b[0m\u001b[1;33m(\u001b[0m\u001b[0mImage\u001b[0m\u001b[1;33m.\u001b[0m\u001b[0mfromarray\u001b[0m\u001b[1;33m(\u001b[0m\u001b[1;33m[\u001b[0m\u001b[0mMIN2295_2480\u001b[0m\u001b[1;33m,\u001b[0m\u001b[0mMIN2345_2537\u001b[0m\u001b[1;33m,\u001b[0m\u001b[0mCINDEX2\u001b[0m\u001b[1;33m]\u001b[0m\u001b[1;33m)\u001b[0m\u001b[1;33m)\u001b[0m\u001b[1;33m\u001b[0m\u001b[1;33m\u001b[0m\u001b[0m\n\u001b[0m",
      "\u001b[1;32m~\\anaconda3\\envs\\geospatial\\lib\\site-packages\\PIL\\Image.py\u001b[0m in \u001b[0;36mfromarray\u001b[1;34m(obj, mode)\u001b[0m\n\u001b[0;32m   2801\u001b[0m     \u001b[1;33m.\u001b[0m\u001b[1;33m.\u001b[0m \u001b[0mversionadded\u001b[0m\u001b[1;33m:\u001b[0m\u001b[1;33m:\u001b[0m \u001b[1;36m1.1\u001b[0m\u001b[1;36m.6\u001b[0m\u001b[1;33m\u001b[0m\u001b[1;33m\u001b[0m\u001b[0m\n\u001b[0;32m   2802\u001b[0m     \"\"\"\n\u001b[1;32m-> 2803\u001b[1;33m     \u001b[0marr\u001b[0m \u001b[1;33m=\u001b[0m \u001b[0mobj\u001b[0m\u001b[1;33m.\u001b[0m\u001b[0m__array_interface__\u001b[0m\u001b[1;33m\u001b[0m\u001b[1;33m\u001b[0m\u001b[0m\n\u001b[0m\u001b[0;32m   2804\u001b[0m     \u001b[0mshape\u001b[0m \u001b[1;33m=\u001b[0m \u001b[0marr\u001b[0m\u001b[1;33m[\u001b[0m\u001b[1;34m\"shape\"\u001b[0m\u001b[1;33m]\u001b[0m\u001b[1;33m\u001b[0m\u001b[1;33m\u001b[0m\u001b[0m\n\u001b[0;32m   2805\u001b[0m     \u001b[0mndim\u001b[0m \u001b[1;33m=\u001b[0m \u001b[0mlen\u001b[0m\u001b[1;33m(\u001b[0m\u001b[0mshape\u001b[0m\u001b[1;33m)\u001b[0m\u001b[1;33m\u001b[0m\u001b[1;33m\u001b[0m\u001b[0m\n",
      "\u001b[1;31mAttributeError\u001b[0m: 'list' object has no attribute '__array_interface__'"
     ]
    }
   ],
   "source": [
    "#plt.imshow(CINDEX2)\n",
    "plt.imshow(Image.fromarray([MIN2295_2480,MIN2345_2537,CINDEX2]))"
   ]
  },
  {
   "cell_type": "code",
   "execution_count": 153,
   "metadata": {},
   "outputs": [
    {
     "data": {
      "text/plain": [
       "(array([[  0.,   0.,   0., ...,   0.,   0., 691.],\n",
       "        [  0.,   0.,   0., ...,   0.,   0., 691.],\n",
       "        [  0.,   0.,   0., ...,   0.,   0., 691.],\n",
       "        ...,\n",
       "        [  0.,   0.,   0., ...,   0.,   0., 691.],\n",
       "        [  0.,   0.,   0., ...,   0.,   0., 691.],\n",
       "        [  0.,   0.,   0., ...,   0.,   0., 691.]]),\n",
       " array([  0.    ,  25.5999,  51.1998,  76.7997, 102.3996, 127.9995,\n",
       "        153.5994, 179.1993, 204.7992, 230.3991, 255.999 ], dtype=float32),\n",
       " <a list of 767 BarContainer objects>)"
      ]
     },
     "execution_count": 153,
     "metadata": {},
     "output_type": "execute_result"
    },
    {
     "data": {
      "image/png": "[encoded data removed]",
      "text/plain": [
       "<Figure size 432x288 with 1 Axes>"
      ]
     },
     "metadata": {
      "needs_background": "light"
     },
     "output_type": "display_data"
    }
   ],
   "source": [
    "plt.hist(D2300)"
   ]
  },
  {
   "cell_type": "code",
   "execution_count": null,
   "metadata": {},
   "outputs": [],
   "source": []
  }
 ],
 "metadata": {
  "kernelspec": {
   "display_name": "Python 3 (ipykernel)",
   "language": "python",
   "name": "python3"
  },
  "language_info": {
   "codemirror_mode": {
    "name": "ipython",
    "version": 3
   },
   "file_extension": ".py",
   "mimetype": "text/x-python",
   "name": "python",
   "nbconvert_exporter": "python",
   "pygments_lexer": "ipython3",
   "version": "3.10.2"
  }
 },
 "nbformat": 4,
 "nbformat_minor": 4
}
