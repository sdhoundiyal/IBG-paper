{
 "cells": [
  {
   "cell_type": "code",
   "execution_count": 2,
   "id": "ae393c76",
   "metadata": {},
   "outputs": [
    {
     "data": {
      "text/html": [
       "<style>.container { width:100% !important; }</style>"
      ],
      "text/plain": [
       "<IPython.core.display.HTML object>"
      ]
     },
     "metadata": {},
     "output_type": "display_data"
    }
   ],
   "source": [
    "from IPython.core.display import display, HTML\n",
    "display(HTML(\"<style>.container { width:100% !important; }</style>\"))"
   ]
  },
  {
   "cell_type": "code",
   "execution_count": 3,
   "id": "175132b7",
   "metadata": {},
   "outputs": [],
   "source": [
    "import pandas as pd\n",
    "import numpy as np\n",
    "import matplotlib.pyplot as plt"
   ]
  },
  {
   "cell_type": "code",
   "execution_count": 5,
   "id": "706871fd",
   "metadata": {},
   "outputs": [
    {
     "data": {
      "text/html": [
       "<div>\n",
       "<style scoped>\n",
       "    .dataframe tbody tr th:only-of-type {\n",
       "        vertical-align: middle;\n",
       "    }\n",
       "\n",
       "    .dataframe tbody tr th {\n",
       "        vertical-align: top;\n",
       "    }\n",
       "\n",
       "    .dataframe thead th {\n",
       "        text-align: right;\n",
       "    }\n",
       "</style>\n",
       "<table border=\"1\" class=\"dataframe\">\n",
       "  <thead>\n",
       "    <tr style=\"text-align: right;\">\n",
       "      <th></th>\n",
       "      <th>Sample Name</th>\n",
       "      <th>Mineral</th>\n",
       "      <th>Band centres</th>\n",
       "      <th>Unnamed: 3</th>\n",
       "      <th>Unnamed: 4</th>\n",
       "      <th>Unnamed: 5</th>\n",
       "      <th>Unnamed: 6</th>\n",
       "      <th>Unnamed: 7</th>\n",
       "    </tr>\n",
       "  </thead>\n",
       "  <tbody>\n",
       "    <tr>\n",
       "      <th>0</th>\n",
       "      <td>NMNH83369</td>\n",
       "      <td>Chlorite</td>\n",
       "      <td>856.46</td>\n",
       "      <td>3564.17</td>\n",
       "      <td>4450.85</td>\n",
       "      <td>758.08</td>\n",
       "      <td>3452.80</td>\n",
       "      <td>4297.07</td>\n",
       "    </tr>\n",
       "    <tr>\n",
       "      <th>1</th>\n",
       "      <td>GDS157</td>\n",
       "      <td>Chlorite</td>\n",
       "      <td>854.53</td>\n",
       "      <td>3547.36</td>\n",
       "      <td>4436.08</td>\n",
       "      <td>756.15</td>\n",
       "      <td>3416.23</td>\n",
       "      <td>4262.82</td>\n",
       "    </tr>\n",
       "    <tr>\n",
       "      <th>2</th>\n",
       "      <td>GDS158</td>\n",
       "      <td>Chlorite</td>\n",
       "      <td>868.03</td>\n",
       "      <td>3556.95</td>\n",
       "      <td>4443.45</td>\n",
       "      <td>760.01</td>\n",
       "      <td>3421.96</td>\n",
       "      <td>4274.18</td>\n",
       "    </tr>\n",
       "    <tr>\n",
       "      <th>3</th>\n",
       "      <td>GDS159</td>\n",
       "      <td>Chlorite</td>\n",
       "      <td>850.67</td>\n",
       "      <td>3565.44</td>\n",
       "      <td>4449.61</td>\n",
       "      <td>763.87</td>\n",
       "      <td>3433.59</td>\n",
       "      <td>4298.22</td>\n",
       "    </tr>\n",
       "    <tr>\n",
       "      <th>4</th>\n",
       "      <td>SC-CCa-1</td>\n",
       "      <td>Chlorite</td>\n",
       "      <td>854.67</td>\n",
       "      <td>3547.36</td>\n",
       "      <td>4433.63</td>\n",
       "      <td>758.08</td>\n",
       "      <td>3414.25</td>\n",
       "      <td>4259.43</td>\n",
       "    </tr>\n",
       "  </tbody>\n",
       "</table>\n",
       "</div>"
      ],
      "text/plain": [
       "  Sample Name   Mineral  Band centres  Unnamed: 3  Unnamed: 4  Unnamed: 5  \\\n",
       "0   NMNH83369  Chlorite        856.46     3564.17     4450.85      758.08   \n",
       "1      GDS157  Chlorite        854.53     3547.36     4436.08      756.15   \n",
       "2      GDS158  Chlorite        868.03     3556.95     4443.45      760.01   \n",
       "3      GDS159  Chlorite        850.67     3565.44     4449.61      763.87   \n",
       "4    SC-CCa-1  Chlorite        854.67     3547.36     4433.63      758.08   \n",
       "\n",
       "   Unnamed: 6  Unnamed: 7  \n",
       "0     3452.80     4297.07  \n",
       "1     3416.23     4262.82  \n",
       "2     3421.96     4274.18  \n",
       "3     3433.59     4298.22  \n",
       "4     3414.25     4259.43  "
      ]
     },
     "execution_count": 5,
     "metadata": {},
     "output_type": "execute_result"
    }
   ],
   "source": [
    "#read the phyllosilicate informtion\n",
    "postSerpentineSamples=pd.read_excel(\"G:/Chlorite Yang 2018.xlsx\",sheet_name=\"Chlorite\")\n",
    "postSerpentineSamples.head()"
   ]
  },
  {
   "cell_type": "code",
   "execution_count": 7,
   "id": "3dda8514",
   "metadata": {},
   "outputs": [],
   "source": [
    "#define a class to hold Post 2000 samples\n",
    "class PostSample:\n",
    "    #create a constructor\n",
    "    def __init__(self,sampleID,mineral,bandCentres):\n",
    "        #set variable to hold sample name\n",
    "        self.sampleID=sampleID\n",
    "        #set variable to hold which mineral\n",
    "        self.mineral=mineral\n",
    "        #set variable to hold the bandCentres\n",
    "        self.bandCentres=bandCentres"
   ]
  },
  {
   "cell_type": "code",
   "execution_count": 9,
   "id": "fc979a03",
   "metadata": {},
   "outputs": [],
   "source": [
    "#create a list to hold all Post serpentine samples\n",
    "allPostSerpentineSamples=[]\n",
    "#iterate through serpentine dataframe and add samples to the list\n",
    "for index, row in postSerpentineSamples.iterrows():\n",
    "    #get the band centres\n",
    "    bandCentres=[]\n",
    "    for i in range(2,7):\n",
    "        if row[i]==row[i]:#ensure the number is not NaN\n",
    "            bandCentres.append(10000000/(row[i]*1000))\n",
    "    #create an object\n",
    "    currentSample=PostSample(row['Sample Name'],\n",
    "                             row['Mineral'],\n",
    "                             np.array(sorted(bandCentres)))\n",
    "    #add the object to the list of samples\n",
    "    allPostSerpentineSamples.append(currentSample)"
   ]
  },
  {
   "cell_type": "code",
   "execution_count": 10,
   "id": "e2bc67e2",
   "metadata": {},
   "outputs": [],
   "source": [
    "#set bounds for the 2.3 band centre i.e the first band centre in the range 2.27-2.36\n",
    "lowerBound23=2.27\n",
    "upperBound23=2.47\n",
    "\n",
    "#set bounds for the 2.5 band centre i.e the first band centre in the range 2.27-2.36\n",
    "lowerBound25=2.47\n",
    "upperBound25=2.67\n",
    "\n",
    "#list to hold phyllosilicate samples that weren't plotted\n",
    "nonPlottedPhyllosilicateSamples=[]\n",
    "#list to hold phyllosilicate samples that were plotted\n",
    "plottedPhyllosilicateSamples=[]\n",
    "\n",
    "#lists to save band centres\n",
    "yangPhyllosilicate23BandCentre=[]\n",
    "yangPhyllosilicate25BandCentre=[]\n",
    "\n",
    "for i in allPostSerpentineSamples:\n",
    "    #get the band centres\n",
    "    bandCentres=i.bandCentres\n",
    "    #get the 2.3 and 2.5 micron band centres, if avialable check if crism or library spectra and append to that list\n",
    "    try:\n",
    "        feature23Index=np.where(np.logical_and(bandCentres<=upperBound23,\n",
    "                                                         bandCentres>=lowerBound23))[0][0]\n",
    "        feature25Index=np.where(np.logical_and(bandCentres<=upperBound25,\n",
    "                                                         bandCentres>=lowerBound25))[0][0]\n",
    "        yangPhyllosilicate23BandCentre.append(bandCentres[feature23Index])\n",
    "        yangPhyllosilicate25BandCentre.append(bandCentres[feature25Index])\n",
    "        plottedPhyllosilicateSamples.append(i)\n",
    "    except:\n",
    "        nonPlottedPhyllosilicateSamples.append(i)"
   ]
  },
  {
   "cell_type": "code",
   "execution_count": 12,
   "id": "d10e3dde",
   "metadata": {},
   "outputs": [
    {
     "name": "stdout",
     "output_type": "stream",
     "text": [
      "Phyllosilicate samples not plotted are:-\n",
      "\n",
      "\n",
      "NMNH83369--\t\t\t\t--Chlorite--\t\t\t\t--[ 2.24676185  2.80570231  2.89620019 11.67596852 13.19121992]\n",
      "GDS157--\t\t\t\t--Chlorite--\t\t\t\t--[ 2.25424248  2.81899779  2.92720338 11.7023393  13.22488924]\n",
      "GDS158--\t\t\t\t--Chlorite--\t\t\t\t--[ 2.25050355  2.81139741  2.92230184 11.52033916 13.15772161]\n",
      "GDS159--\t\t\t\t--Chlorite--\t\t\t\t--[ 2.24738797  2.80470293  2.91240364 11.75543983 13.0912328 ]\n",
      "SC-CCa-1--\t\t\t\t--Chlorite--\t\t\t\t--[ 2.25548817  2.81899779  2.92890093 11.70042239 13.19121992]\n",
      "SMR-13--\t\t\t\t--Chlorite--\t\t\t\t--[ 2.24925831  2.80830247  2.91569841 11.7023393  13.25873087]\n",
      "SMR-14--\t\t\t\t--Chlorite--\t\t\t\t--[ 2.25299818  2.81899779  2.92890093 11.78217122 13.19121992]\n",
      "SMR-15--\t\t\t\t--Chlorite--\t\t\t\t--[ 2.26047447  2.82210043  2.93550404 12.34324084 13.36112447]\n"
     ]
    }
   ],
   "source": [
    "#print all phyllosilicate samples that weren't plotted\n",
    "print(\"Phyllosilicate samples not plotted are:-\\n\\n\")\n",
    "for i in nonPlottedPhyllosilicateSamples:\n",
    "    print(f\"{i.sampleID}--\\t\\t\\t\\t--{i.mineral}--\\t\\t\\t\\t--{i.bandCentres}\")"
   ]
  },
  {
   "cell_type": "code",
   "execution_count": 13,
   "id": "8554ecdf",
   "metadata": {},
   "outputs": [
    {
     "name": "stdout",
     "output_type": "stream",
     "text": [
      "Phyllosilicate samples plotted are:-\n",
      "\n",
      "\n"
     ]
    }
   ],
   "source": [
    "#print all phyllosilicate samples that weren't plotted\n",
    "print(\"Phyllosilicate samples plotted are:-\\n\\n\")\n",
    "for i in plottedPhyllosilicateSamples:\n",
    "    print(f\"{i.sampleID}--\\t\\t\\t\\t--{i.mineral}--\\t\\t\\t\\t--{i.bandCentres}\")"
   ]
  },
  {
   "cell_type": "code",
   "execution_count": 15,
   "id": "598be962",
   "metadata": {},
   "outputs": [
    {
     "data": {
      "text/plain": [
       "<matplotlib.collections.PathCollection at 0x18d3b3d6c50>"
      ]
     },
     "execution_count": 15,
     "metadata": {},
     "output_type": "execute_result"
    },
    {
     "data": {
      "image/png": "[encoded data removed]",
      "text/plain": [
       "<Figure size 720x720 with 1 Axes>"
      ]
     },
     "metadata": {
      "needs_background": "light"
     },
     "output_type": "display_data"
    }
   ],
   "source": [
    "#create a figure and plot the four sets of points\n",
    "plt.figure(figsize=(10,10))\n",
    "plt.title(\"2.3  micron vs 2.5micron\",fontsize=15)\n",
    "plt.xlabel(\"2.3 micron Band Centre\",fontsize=12)\n",
    "plt.ylabel(\"Neighbour Band Centre\",fontsize=12)\n",
    "plt.xticks(fontsize=10)\n",
    "plt.yticks(fontsize=10)\n",
    "\n",
    "#plot the Post 2000 phyllosilicates\n",
    "plt.scatter(yangPhyllosilicate23BandCentre,\n",
    "         yangPhyllosilicate25BandCentre,\n",
    "         s=50,\n",
    "         color=\"Red\",\n",
    "         marker=4,\n",
    "         label=\"Post 2000\")"
   ]
  },
  {
   "cell_type": "code",
   "execution_count": null,
   "id": "a6f779ad",
   "metadata": {},
   "outputs": [],
   "source": []
  }
 ],
 "metadata": {
  "kernelspec": {
   "display_name": "Python 3 (ipykernel)",
   "language": "python",
   "name": "python3"
  },
  "language_info": {
   "codemirror_mode": {
    "name": "ipython",
    "version": 3
   },
   "file_extension": ".py",
   "mimetype": "text/x-python",
   "name": "python",
   "nbconvert_exporter": "python",
   "pygments_lexer": "ipython3",
   "version": "3.10.2"
  }
 },
 "nbformat": 4,
 "nbformat_minor": 5
}
