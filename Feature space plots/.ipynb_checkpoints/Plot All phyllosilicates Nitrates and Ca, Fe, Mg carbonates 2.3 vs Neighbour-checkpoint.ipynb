{
 "cells": [
  {
   "cell_type": "code",
   "execution_count": 2,
   "id": "66b9fa62",
   "metadata": {},
   "outputs": [
    {
     "data": {
      "text/html": [
       "<style>.container { width:100% !important; }</style>"
      ],
      "text/plain": [
       "<IPython.core.display.HTML object>"
      ]
     },
     "metadata": {},
     "output_type": "display_data"
    }
   ],
   "source": [
    "from IPython.core.display import display, HTML\n",
    "display(HTML(\"<style>.container { width:100% !important; }</style>\"))"
   ]
  },
  {
   "cell_type": "code",
   "execution_count": 3,
   "id": "305d64a4",
   "metadata": {},
   "outputs": [],
   "source": [
    "import numpy as np\n",
    "import pandas as pd\n",
    "import matplotlib.pyplot as plt\n",
    "import os\n",
    "import re\n",
    "from csv import reader\n",
    "import gc"
   ]
  },
  {
   "cell_type": "code",
   "execution_count": 4,
   "id": "fd102513",
   "metadata": {},
   "outputs": [],
   "source": [
    "#sourced from Bishop 2008 paper\n",
    "#Reflectance and emission spectroscopy study of four groups of phyllosilicates: smectites, kaolinite-serpentines, chlorites and micas\n",
    "class BishopPhyllosilicateSample:\n",
    "    ##create constuctor i.e. _init_ function for the class\n",
    "    def __init__(self,sampleID,paper,phyllosilicateType,phyllosilicateSpecies,bandCentres):\n",
    "        #set variable to hold the sample id\n",
    "        self.sampleID=sampleID\n",
    "        #set variable to hold the source i.e. paper\n",
    "        self.paper=paper\n",
    "        #set variable to hold the mineral type\n",
    "        self.phyllosilicateType=phyllosilicateType\n",
    "        #set varibale to hold the mineral species\n",
    "        self.phyllosilicateSpecies=phyllosilicateSpecies\n",
    "        #set variable to hold the band centres\n",
    "        self.bandCentres=bandCentres"
   ]
  },
  {
   "cell_type": "code",
   "execution_count": 5,
   "id": "dffbb416",
   "metadata": {},
   "outputs": [],
   "source": [
    "#read the csv file\n",
    "rows=[]\n",
    "for row in reader(open(\"G:/Phyllosilicate absorption features - Sheet1.csv\")):\n",
    "    rows.append(row)\n"
   ]
  },
  {
   "cell_type": "code",
   "execution_count": 6,
   "id": "79df9fdf",
   "metadata": {},
   "outputs": [],
   "source": [
    "#create an array to hold the samples\n",
    "allPhyllosilicateBishopSamples=[]\n",
    "for i in range(len(rows)):\n",
    "    #check if the row is a sample\n",
    "    if len(rows[i][0])>0 and rows[i][0]!='Mineral Group':\n",
    "        #get all band centres\n",
    "        bandCentres=[]\n",
    "        for j in range(2,11):\n",
    "            if rows[i][j]!='':\n",
    "                bandCentres.append((float)(rows[i][j]))\n",
    "        #sort the list of band Centres\n",
    "        bandCentres=np.array(sorted(bandCentres,key=float))\n",
    "        #create an object\n",
    "        currentSample=BishopPhyllosilicateSample(i,\n",
    "                                          \"Bishop 2008\",\n",
    "                                          rows[i][0],\n",
    "                                          rows[i][1],\n",
    "                                          np.array(sorted(bandCentres)))\n",
    "        #append to list of all sample\n",
    "        allPhyllosilicateBishopSamples.append(currentSample)\n",
    "#delete tand collect garbage\n",
    "del rows\n",
    "noOfGarbageItems=gc.collect()"
   ]
  },
  {
   "cell_type": "code",
   "execution_count": 7,
   "id": "e260777e",
   "metadata": {},
   "outputs": [],
   "source": [
    "#set bounds for the 2.3 band centre i.e the first band centre in the range 2.27-2.36\n",
    "lowerBound23=2.27\n",
    "upperBound23=2.47\n",
    "\n",
    "\n",
    "\n",
    "#list to hold phyllosilicate samples that weren't plotted\n",
    "nonPlottedPhyllosilicateSamples=[]\n",
    "#list to hold phyllosilicate samples that were plotted\n",
    "plottedPhyllosilicateSamples=[]\n",
    "\n",
    "#lists to save bishop samples\n",
    "bishopPhyllosilicate23BandCentre=[]\n",
    "bishopPhyllosilicateNeighbourBandCentre=[]\n",
    "for i in allPhyllosilicateBishopSamples:\n",
    "    #get the band centres\n",
    "    bandCentres=i.bandCentres\n",
    "    #get the 2.3 and 2.5 micron band centres, if avialable check if crism or library spectra and append to that list\n",
    "    try:\n",
    "        feature23Index=np.where(np.logical_and(bandCentres<=upperBound23,\n",
    "                                                         bandCentres>=lowerBound23))[0][0]\n",
    "        bandCentre23=bandCentres[feature23Index]\n",
    "        bandCentreNeighbour=bandCentres[feature23Index+1]\n",
    "        bishopPhyllosilicate23BandCentre.append(bandCentre23)\n",
    "        bishopPhyllosilicateNeighbourBandCentre.append(bandCentreNeighbour)\n",
    "        plottedPhyllosilicateSamples.append(i)\n",
    "    except:\n",
    "        nonPlottedPhyllosilicateSamples.append(i)\n",
    "        "
   ]
  },
  {
   "cell_type": "code",
   "execution_count": 8,
   "id": "af5a6420",
   "metadata": {},
   "outputs": [
    {
     "name": "stdout",
     "output_type": "stream",
     "text": [
      "samples not plotted are:-\n",
      "\n",
      "\n",
      "Montmorillonite--\t\t\t\t--Montmorillonite--\t\t\t\t--[2.217 2.44 ]\n",
      "Zinnawaldite--\t\t\t\t--Mica--\t\t\t\t--[2.201 2.255 2.35 ]\n",
      "Biotite--\t\t\t\t--Mica--\t\t\t\t--[2.259 2.366]\n"
     ]
    }
   ],
   "source": [
    "#print all phyllosilicate samples that weren't plotted\n",
    "print(\"samples not plotted are:-\\n\\n\")\n",
    "for i in nonPlottedPhyllosilicateSamples:\n",
    "    print(f\"{i.phyllosilicateSpecies}--\\t\\t\\t\\t--{i.phyllosilicateType}--\\t\\t\\t\\t--{i.bandCentres}\")"
   ]
  },
  {
   "cell_type": "code",
   "execution_count": 9,
   "id": "f616104e",
   "metadata": {},
   "outputs": [
    {
     "name": "stdout",
     "output_type": "stream",
     "text": [
      "samples plotted are:-\n",
      "\n",
      "\n",
      "Fe-smectite--\t\t\t\t--Smectite--\t\t\t\t--[2.236 2.288 2.405 2.496]\n",
      "Nontronite--\t\t\t\t--Nontronite--\t\t\t\t--[2.288 2.407 2.502]\n",
      "Kaolinite--\t\t\t\t--Kaolinite--\t\t\t\t--[2.166 2.211 2.45  2.5  ]\n",
      "Chrysotile--\t\t\t\t--Kaolinite-Serpentine--\t\t\t\t--[2.333 2.337 2.51 ]\n",
      "Clinochlore--\t\t\t\t--Chlorite--\t\t\t\t--[2.248 2.3   2.331 2.47 ]\n",
      "Chamosite--\t\t\t\t--Chlorite--\t\t\t\t--[2.261 2.358 2.51 ]\n",
      "Celadonite--\t\t\t\t--Mica--\t\t\t\t--[2.257 2.302 2.348 2.47 ]\n",
      "Glauconite--\t\t\t\t--Mica--\t\t\t\t--[2.317 2.366 2.48  2.51 ]\n"
     ]
    }
   ],
   "source": [
    "#print all phyllosilicate samples that weren't plotted\n",
    "print(\"samples plotted are:-\\n\\n\")\n",
    "for i in plottedPhyllosilicateSamples:\n",
    "    print(f\"{i.phyllosilicateSpecies}--\\t\\t\\t\\t--{i.phyllosilicateType}--\\t\\t\\t\\t--{i.bandCentres}\")"
   ]
  },
  {
   "cell_type": "code",
   "execution_count": 10,
   "id": "d1a14d72",
   "metadata": {},
   "outputs": [],
   "source": [
    "#create a class to hold the data\n",
    "class CarbonateSample:\n",
    "    #create constuctor i.e. _init_ function for the class\n",
    "    def __init__(self,sampleID,paper,carbonateType,bandCentre23,bandCentre25,interBandGap,outlier):\n",
    "        #set variable to hold the sample id\n",
    "        self.sampleID=sampleID\n",
    "        #set variable to hold the source i.e. paper\n",
    "        self.paper=paper\n",
    "        #set variable to hold the mineral type\n",
    "        self.carbonateType=carbonateType\n",
    "        #set variable to hold the 2.3 micron band centres\n",
    "        self.bandCentre23=bandCentre23\n",
    "        #set variable to hold the 2.5 micron band centres\n",
    "        self.bandCentre25=bandCentre25\n",
    "        #set variable to hold the inter band gap\n",
    "        self.interBandGap=interBandGap\n",
    "        ##set variable to hold if sample is an outlier\n",
    "        self.outlier=outlier"
   ]
  },
  {
   "cell_type": "code",
   "execution_count": 11,
   "id": "1b94b52f",
   "metadata": {},
   "outputs": [],
   "source": [
    "#read the csv file\n",
    "rows=[]\n",
    "for row in reader(open(\"G:/Carbonate absorption features - Carbonate absorption features.csv\")):\n",
    "        if row[0]!='' and row[3]!='' and row[2]!='' and row[1]!='' and row[0]!='Mineral Name':\n",
    "            rows.append(row)\n"
   ]
  },
  {
   "cell_type": "code",
   "execution_count": 12,
   "id": "048c9070",
   "metadata": {},
   "outputs": [],
   "source": [
    "#create an array to hold the \n",
    "allBishopnGaffeyCarbonateSamples=[]\n",
    "for i in range(len(rows)):\n",
    "    #create an object out of the currentsample\n",
    "    paper=\"\"\n",
    "    if i<20:\n",
    "        paper=\"Gaffey\"\n",
    "    else:\n",
    "        paper=\"Bishop\"\n",
    "    outlier=0\n",
    "    if rows[i][12]!='':\n",
    "        outlier=1\n",
    "    currentSample=CarbonateSample(rows[i][1],\n",
    "                                  paper,\n",
    "                                  rows[i][0],\n",
    "                                  (float)(rows[i][3]),\n",
    "                                  (float)(rows[i][2]),\n",
    "                                  (float)(rows[i][10]),\n",
    "                                 outlier)\n",
    "    allBishopnGaffeyCarbonateSamples.append(currentSample)\n",
    "del rows\n",
    "collectedSamples=gc.collect()"
   ]
  },
  {
   "cell_type": "code",
   "execution_count": 13,
   "id": "9720d858",
   "metadata": {},
   "outputs": [],
   "source": [
    "#get all types of carbonates\n",
    "co3Types=[]\n",
    "#iterate over co3Types and get all unique types\n",
    "for i in allBishopnGaffeyCarbonateSamples:\n",
    "    #add the type to the list\n",
    "    co3Types.append(i.carbonateType)\n",
    "#retain uniques\n",
    "co3Types=set(co3Types)"
   ]
  },
  {
   "cell_type": "code",
   "execution_count": 14,
   "id": "086ecb6d",
   "metadata": {},
   "outputs": [],
   "source": [
    "#specifySamples to ignore\n",
    "ignoreIDs=[\"JB833\",\"115O2\",\"11503\"]"
   ]
  },
  {
   "cell_type": "code",
   "execution_count": 15,
   "id": "a3b6237f",
   "metadata": {},
   "outputs": [],
   "source": [
    "#save all gaffey carbonate samples for Ca,Fe and Mg carbonates\n",
    "\n",
    "#lists to save gaffey samples\n",
    "gaffeyCarbonate23BandCentre=[]\n",
    "gaffeyCarbonate25BandCentre=[]\n",
    "gaffeySamples=[]\n",
    "#iterate over all samples and save the gaffey samples\n",
    "for i in allBishopnGaffeyCarbonateSamples:\n",
    "    #check if the sample contains Ca, Fe or Mg. If not, skip\n",
    "    if not(re.search(\"Ca\",i.carbonateType) or re.search(\"Fe\",i.carbonateType) or re.search(\"Mg\",i.carbonateType)):\n",
    "        continue\n",
    "    #check if the ID is to be ignored\n",
    "    if i.sampleID in ignoreIDs or i.paper==\"Bishop\":\n",
    "        continue\n",
    "    gaffeyCarbonate23BandCentre.append(i.bandCentre23)\n",
    "    gaffeyCarbonate25BandCentre.append(i.bandCentre25)\n",
    "    gaffeySamples.append(i)"
   ]
  },
  {
   "cell_type": "code",
   "execution_count": 16,
   "id": "0e33ea9f",
   "metadata": {},
   "outputs": [],
   "source": [
    "#save all bishop carbonate samples\n",
    "\n",
    "#lists to save bishop samples\n",
    "bishopCarbonate23BandCentre=[]\n",
    "bishopCarbonate25BandCentre=[]\n",
    "bishopSamples=[]\n",
    "#iterate over all samples and save the gaffey samples\n",
    "for i in allBishopnGaffeyCarbonateSamples:\n",
    "    #check if the sample contains Ca, Fe or Mg. If not, skip\n",
    "    if not(re.search(\"Ca\",i.carbonateType) or re.search(\"Fe\",i.carbonateType) or re.search(\"Mg\",i.carbonateType)):\n",
    "        continue\n",
    "    #check if the ID is to be ignored\n",
    "    if i.sampleID in ignoreIDs or i.paper==\"Gaffey\":\n",
    "        continue\n",
    "    bishopCarbonate23BandCentre.append(i.bandCentre23)\n",
    "    bishopCarbonate25BandCentre.append(i.bandCentre25)\n",
    "    bishopSamples.append(i)"
   ]
  },
  {
   "cell_type": "code",
   "execution_count": 17,
   "id": "ba281a8e",
   "metadata": {},
   "outputs": [
    {
     "name": "stdout",
     "output_type": "stream",
     "text": [
      "All Gaffey Carbonate samples\n",
      "\n",
      ":-\n",
      "Gaffey--\t--2502--\t--Magnesite (Mg)--\t--2.3--\t--2.5\n",
      "Gaffey--\t--2506--\t--Magnesite (Mg)--\t--2.298--\t--2.497\n",
      "Gaffey--\t--6509--\t--Dolomite (Ca, Fe, Mg)--\t--2.32--\t--2.516\n",
      "Gaffey--\t--6514--\t--Dolomite (Ca, Fe, Mg)--\t--2.319--\t--2.516\n",
      "Gaffey--\t--6515b*--\t--Siderite (Fe)--\t--2.329--\t--2.528\n",
      "Gaffey--\t--9504--\t--Siderite (Fe)--\t--2.321--\t--2.525\n",
      "Gaffey--\t--1531--\t--Calcite (Ca)--\t--2.333--\t--2.535\n",
      "Gaffey--\t--1542--\t--Calcite (Ca)--\t--2.34--\t--2.541\n",
      "Gaffey--\t--10524--\t--Aragonite (Ca)--\t--2.331--\t--2.535\n",
      "Gaffey--\t--1O53O--\t--Aragonite (Ca)--\t--2.332--\t--2.532\n",
      "Gaffey--\t--JB0946E--\t--Magnesite (Mg)--\t--2.301--\t--2.503\n",
      "Gaffey--\t--JB1161B--\t--Magnesite (Mg)--\t--2.301--\t--2.501\n",
      "Gaffey--\t--JB1162B--\t--Mg-Siderite (Fe/Mg)--\t--2.319--\t--2.522\n",
      "Gaffey--\t--JB1462D--\t--Siderite (Fe)--\t--2.32--\t--2.525\n",
      "Gaffey--\t--JB1463D--\t--Siderite (Fe)--\t--2.333--\t--2.534\n",
      "Gaffey--\t--JB1163B--\t--Siderite (Fe)--\t--2.334--\t--2.538\n",
      "Gaffey--\t--JB1457D--\t--Calcite (Ca)--\t--2.34--\t--2.537\n",
      "Gaffey--\t--JB1458D--\t--Calcite (Ca)--\t--2.341--\t--2.537\n"
     ]
    }
   ],
   "source": [
    "#print all gaffey samples\n",
    "print(\"All Gaffey Carbonate samples\\n\\n:-\")\n",
    "for i in gaffeySamples:\n",
    "    print(f\"{i.paper}--\\t--{i.sampleID}--\\t--{i.carbonateType}--\\t--{i.bandCentre23}--\\t--{i.bandCentre25}\")"
   ]
  },
  {
   "cell_type": "code",
   "execution_count": 18,
   "id": "cd674cac",
   "metadata": {},
   "outputs": [
    {
     "name": "stdout",
     "output_type": "stream",
     "text": [
      "All Bishop Carbonate samples\n",
      "\n",
      ":-\n",
      "Bishop--\t--JB1460D--\t--Calcite (Ca)--\t--2.338--\t--2.534\n",
      "Bishop--\t--HS194B--\t--Calcite (Ca)--\t--2.34--\t--2.536\n",
      "Bishop--\t--HS48B--\t--Calcite (Ca)--\t--2.338--\t--2.535\n",
      "Bishop--\t--JB552--\t--Calcite (Ca)--\t--2.342--\t--2.539\n",
      "Bishop--\t--JB0779--\t--Dolomite (Ca, Fe, Mg)--\t--2.322--\t--2.516\n",
      "Bishop--\t--JB1461D--\t--Dolomite (Ca, Fe, Mg):--\t--2.324--\t--2.518\n",
      "Bishop--\t--HS102B--\t--Dolomite (Ca, Fe, Mg):--\t--2.325--\t--2.514\n",
      "Bishop--\t--NMNH R12596--\t--Dolomite (Ca, Fe, Mg):--\t--2.324--\t--2.515\n",
      "Bishop--\t--Salisbury/Vergo 3C--\t--Dolomite (Ca, Fe, Mg):--\t--2.322--\t--2.515\n",
      "Bishop--\t--JB829--\t--Fe/Mg/Ca-Carbonate--\t--2.298--\t--2.514\n",
      "Bishop--\t--JB832--\t--Fe/Mg/Ca-Carbonate--\t--2.302--\t--2.507\n",
      "Bishop--\t--JB0778--\t--Ankerite (Ca, Fe, Mg, Mn)--\t--2.314--\t--2.531\n",
      "Bishop--\t--JB0830--\t--Ankerite (Ca, Fe, Mg, Mn)--\t--2.306--\t--2.507\n",
      "Bishop--\t--JB0831--\t--Ankerite (Ca, Fe, Mg, Mn)--\t--2.302--\t--2.507\n",
      "Bishop--\t--JB1459D--\t--Aragonite (Ca)--\t--2.318--\t--2.522\n",
      "Bishop--\t--JB1640D--\t--Aragonite (Ca)--\t--2.318--\t--2.521\n",
      "Bishop--\t--JB1659--\t--Aragonite (Ca)--\t--2.319--\t--2.522\n",
      "Bishop--\t--NMNH B10083--\t--Aragonite (Ca)--\t--2.318--\t--2.52\n"
     ]
    }
   ],
   "source": [
    "#print all bishop samples\n",
    "print(\"All Bishop Carbonate samples\\n\\n:-\")\n",
    "for i in bishopSamples:\n",
    "    print(f\"{i.paper}--\\t--{i.sampleID}--\\t--{i.carbonateType}--\\t--{i.bandCentre23}--\\t--{i.bandCentre25}\")"
   ]
  },
  {
   "cell_type": "code",
   "execution_count": 19,
   "id": "72e5230b",
   "metadata": {},
   "outputs": [],
   "source": [
    "#remove used data\n",
    "del bishopSamples\n",
    "del gaffeySamples\n",
    "del allBishopnGaffeyCarbonateSamples\n",
    "del co3Types\n",
    "del ignoreIDs\n",
    "collectedItems=gc.collect()"
   ]
  },
  {
   "cell_type": "code",
   "execution_count": 20,
   "id": "a23fd4cd",
   "metadata": {},
   "outputs": [],
   "source": [
    "#read the phyllosilicate informtion\n",
    "phyllosilicateMICASamples=pd.read_excel(\"G:/MICA absorption features.xlsx\",sheet_name=\"Phyllosilicates\")\n",
    "#read the carbonate information\n",
    "carbonateMICASamples=pd.read_excel(\"G:/MICA absorption features.xlsx\",sheet_name=\"Carbonates\")\n"
   ]
  },
  {
   "cell_type": "code",
   "execution_count": 21,
   "id": "9e52e5de",
   "metadata": {},
   "outputs": [],
   "source": [
    "#define class for MICA mineral\n",
    "class MICASample:\n",
    "    ##create constuctor i.e. _init_ function for the class\n",
    "    def __init__(self,sampleSource,mineralSpecies,mineralGroup,sampleType,bandCentres):\n",
    "        #set variable to hold the sample source\n",
    "        self.sampleSource=sampleSource\n",
    "        #set variable to hold the mineral species\n",
    "        self.mineralSpecies=mineralSpecies\n",
    "        #set variable to hold the mineral group\n",
    "        self.mineralGroup=mineralGroup\n",
    "        #set variable to hold the type of Sample CRISM or library spectra\n",
    "        self.sampleType=sampleType\n",
    "        #set variable to hold the band centres\n",
    "        self.bandCentres=bandCentres"
   ]
  },
  {
   "cell_type": "code",
   "execution_count": 22,
   "id": "44051dfd",
   "metadata": {},
   "outputs": [],
   "source": [
    "#create a list to hold all carbonate MICA samples\n",
    "allCarbonateMICASamples=[]\n",
    "#iterate through carbonate dataframe and add samples to the list\n",
    "for index, row in carbonateMICASamples.iterrows():\n",
    "    #get the band centres\n",
    "    bandCentres=[]\n",
    "    for i in range(4,10):\n",
    "        if row[i]==row[i]:#ensure the number is not NaN\n",
    "            bandCentres.append(row[i])\n",
    "    #create an object\n",
    "    currentSample=MICASample(row['Sample No/Image ID'],\n",
    "                             row['Mineral'],\n",
    "                             'Carbonate',\n",
    "                             row['CRISM or Library'],\n",
    "                             np.array(sorted(bandCentres)))\n",
    "    #add the object to the list of samples\n",
    "    allCarbonateMICASamples.append(currentSample)\n",
    "\n",
    "#create a list to hold all carbonate MICA samples\n",
    "allPhyllosilicateMICASamples=[]\n",
    "#iterate through carbonate dataframe and add samples to the list\n",
    "for index, row in phyllosilicateMICASamples.iterrows():\n",
    "    #get the band centres\n",
    "    bandCentres=[]\n",
    "    for i in range(4,10):\n",
    "        if row[i]==row[i]:#ensure the number is not NaN\n",
    "            bandCentres.append(row[i])\n",
    "    #create an object\n",
    "    currentSample=MICASample(row['Sample No/Image ID'],\n",
    "                             row['Mineral'],\n",
    "                             'Phyllosilicate',\n",
    "                             row['CRISM or Library'],\n",
    "                             np.array(sorted(bandCentres)))\n",
    "    #add the object to the list of samples\n",
    "    allPhyllosilicateMICASamples.append(currentSample)\n"
   ]
  },
  {
   "cell_type": "code",
   "execution_count": 23,
   "id": "5b3b0f44",
   "metadata": {},
   "outputs": [],
   "source": [
    "#iterate through all phyllosilicate MICA samples\n",
    "#record the samples that cannot be plotted i.e do not have 2.3 micron absorption feature of a neighbour after\n",
    "#save the library and non library samples seperately\n",
    "\n",
    "#set bounds for the 2.3 band centre i.e the first band centre in the range 2.27-2.36\n",
    "lowerBound23=2.27\n",
    "upperBound23=2.47\n",
    "\n",
    "\n",
    "\n",
    "#list to hold phyllosilicate samples that weren't plotted\n",
    "nonPlottedPhyllosilicateSamples=[]\n",
    "#list to hold phyllosilicate samples that were plotted\n",
    "plottedPhyllosilicateSamples=[]\n",
    "\n",
    "#lists to save library samples\n",
    "libraryPhyllosilicate23BandCentre=[]\n",
    "libraryPhyllosilicateNeighbourBandCentre=[]\n",
    "\n",
    "#lists to save CRISM samples\n",
    "crismPhyllosilicate23BandCentre=[]\n",
    "crismPhyllosilicateNeighbourBandCentre=[]\n",
    "\n",
    "for i in allPhyllosilicateMICASamples:\n",
    "    #get the band centres\n",
    "    bandCentres=i.bandCentres\n",
    "    #get the 2.3 and 2.5 micron band centres, if avialable check if crism or library spectra and append to that list\n",
    "    try:\n",
    "        feature23Index=np.where(np.logical_and(bandCentres<=upperBound23,\n",
    "                                                         bandCentres>=lowerBound23))[0][0]\n",
    "        bandCentre23=bandCentres[feature23Index]\n",
    "        bandCentreNeighbour=bandCentres[feature23Index+1]\n",
    "        if i.sampleType==\"CRISM\":\n",
    "            crismPhyllosilicate23BandCentre.append(bandCentre23)\n",
    "            crismPhyllosilicateNeighbourBandCentre.append(bandCentreNeighbour)\n",
    "        else:\n",
    "            libraryPhyllosilicate23BandCentre.append(bandCentre23)\n",
    "            libraryPhyllosilicateNeighbourBandCentre.append(bandCentreNeighbour)\n",
    "        plottedPhyllosilicateSamples.append(i)\n",
    "    except:\n",
    "        nonPlottedPhyllosilicateSamples.append(i)"
   ]
  },
  {
   "cell_type": "code",
   "execution_count": 24,
   "id": "47d4763f",
   "metadata": {},
   "outputs": [],
   "source": [
    "#iterate through all carbonate MICA samples\n",
    "#record the samples that cannot be plotted i.e do not have 2.3 and 2.5 micron absorption features\n",
    "#save the library and non library samples seperately\n",
    "\n",
    "#set bounds for the 2.3 band centre i.e the first band centre in the range 2.27-2.36\n",
    "lowerBound23=2.27\n",
    "upperBound23=2.47\n",
    "\n",
    "\n",
    "\n",
    "#list to hold carbonate samples that weren't plotted\n",
    "nonPlottedCarbonateSamples=[]\n",
    "#list to hold carbonate samples that were plotted\n",
    "plottedCarbonateSamples=[]\n",
    "\n",
    "#lists to save library samples\n",
    "libraryCarbonate23BandCentre=[]\n",
    "libraryCarbonateNeighbourBandCentre=[]\n",
    "\n",
    "#lists to save CRISM samples\n",
    "crismCarbonate23BandCentre=[]\n",
    "crismCarbonateNeighbourBandCentre=[]\n",
    "\n",
    "for i in allCarbonateMICASamples:\n",
    "    #get the band centres\n",
    "    bandCentres=i.bandCentres\n",
    "    #get the 2.3 and 2.5 micron band centres, if avialable check if crism or library spectra and append to that list\n",
    "    try:\n",
    "        feature23Index=np.where(np.logical_and(bandCentres<=upperBound23,\n",
    "                                                         bandCentres>=lowerBound23))[0][0]\n",
    "        bandCentre23=bandCentres[feature23Index]\n",
    "        bandCentreNeighbour=bandCentres[feature23Index+1]\n",
    "        \n",
    "        if i.sampleType==\"CRISM\":\n",
    "            crismCarbonate23BandCentre.append(bandCentre23)\n",
    "            crismCarbonateNeighbourBandCentre.append(bandCentreNeighbour)\n",
    "        else:\n",
    "            libraryCarbonate23BandCentre.append(bandCentre23)\n",
    "            libraryCarbonateNeighbourBandCentre.append(bandCentreNeighbour)\n",
    "        plottedCarbonateSamples.append(i)\n",
    "    except:\n",
    "        nonPlottedCarbonateSamples.append(i)\n",
    "        "
   ]
  },
  {
   "cell_type": "code",
   "execution_count": 25,
   "id": "2e4ccf98",
   "metadata": {},
   "outputs": [],
   "source": [
    "#convert all lists to numpy arrays\n",
    "libraryPhyllosilicate23BandCentre=np.array(libraryPhyllosilicate23BandCentre)\n",
    "libraryPhyllosilicateNeighbourBandCentre=np.array(libraryPhyllosilicateNeighbourBandCentre)\n",
    "crismPhyllosilicate23BandCentre=np.array(crismPhyllosilicate23BandCentre)\n",
    "crismPhyllosilicateNeighbourBandCentre=np.array(crismPhyllosilicateNeighbourBandCentre)\n",
    "libraryCarbonate23BandCentre=np.array(libraryCarbonate23BandCentre)\n",
    "libraryCarbonateNeighbourBandCentre=np.array(libraryCarbonateNeighbourBandCentre)\n",
    "crismCarbonate23BandCentre=np.array(crismCarbonate23BandCentre)\n",
    "crismCarbonateNeighbourBandCentre=np.array(crismCarbonateNeighbourBandCentre)\n",
    "bishopCarbonate23BandCentre=np.array(bishopCarbonate23BandCentre)\n",
    "bishopCarbonate25BandCentre=np.array(bishopCarbonate25BandCentre)\n",
    "gaffeyCarbonate23BandCentre=np.array(gaffeyCarbonate23BandCentre)\n",
    "gaffeyCarbonate25BandCentre=np.array(gaffeyCarbonate25BandCentre)\n",
    "bishopPhyllosilicate23BandCentre=np.array(bishopPhyllosilicate23BandCentre)\n",
    "bishopPhyllosilicateNeighbourBandCentre=np.array(bishopPhyllosilicateNeighbourBandCentre)\n"
   ]
  },
  {
   "cell_type": "code",
   "execution_count": null,
   "id": "e641af7e",
   "metadata": {},
   "outputs": [],
   "source": []
  },
  {
   "cell_type": "code",
   "execution_count": 26,
   "id": "0689ab58",
   "metadata": {},
   "outputs": [
    {
     "name": "stdout",
     "output_type": "stream",
     "text": [
      "Phyllosilicate samples not plotted are:-\n",
      "\n",
      "\n",
      "Al-Smectite--\t\t\t\t--CRISM--\t\t\t\t--[1.91 2.2 ]\n",
      "Al-Smectite--\t\t\t\t--Library--\t\t\t\t--[1.91 2.21]\n",
      "Kaolinite--\t\t\t\t--CRISM--\t\t\t\t--[1.41 1.92 2.16 2.21 2.38]\n"
     ]
    }
   ],
   "source": [
    "#print all phyllosilicate samples that weren't plotted\n",
    "print(\"Phyllosilicate samples not plotted are:-\\n\\n\")\n",
    "for i in nonPlottedPhyllosilicateSamples:\n",
    "    print(f\"{i.mineralSpecies}--\\t\\t\\t\\t--{i.sampleType}--\\t\\t\\t\\t--{i.bandCentres}\")"
   ]
  },
  {
   "cell_type": "code",
   "execution_count": 27,
   "id": "2c5c71f0",
   "metadata": {},
   "outputs": [
    {
     "name": "stdout",
     "output_type": "stream",
     "text": [
      "Phyllosilicate samples plotted are:-\n",
      "\n",
      "\n",
      "Chlorite--\t\t\t\t--CRISM--\t\t\t\t--[1.92 2.   2.25 2.35 2.53]\n",
      "Chlorite--\t\t\t\t--Library--\t\t\t\t--[1.99 2.25 2.33 2.48]\n",
      "Fe-Smectite--\t\t\t\t--CRISM--\t\t\t\t--[1.91 2.29 2.39 2.52]\n",
      "Fe-Smectite--\t\t\t\t--Library--\t\t\t\t--[1.9  2.23 2.28 2.41 2.5 ]\n",
      "Illite/Muscovite--\t\t\t\t--CRISM--\t\t\t\t--[1.93 2.21 2.35 2.45]\n",
      "Illite/Muscovite--\t\t\t\t--Library--\t\t\t\t--[1.91 2.22 2.35 2.45]\n",
      "Kaolinite--\t\t\t\t--Library--\t\t\t\t--[1.41 1.92 2.16 2.21 2.32 2.39]\n",
      "Margarite--\t\t\t\t--CRISM--\t\t\t\t--[2.   2.2  2.25 2.35 2.47]\n",
      "Margarite--\t\t\t\t--Library--\t\t\t\t--[2.   2.21 2.26 2.34 2.44]\n",
      "Mg-smectite--\t\t\t\t--CRISM--\t\t\t\t--[1.92 2.31 2.39]\n",
      "Mg-smectite--\t\t\t\t--Library--\t\t\t\t--[1.91 2.32 2.39]\n",
      "Serpentine--\t\t\t\t--CRISM--\t\t\t\t--[1.96 2.11 2.32 2.44 2.51 2.55]\n",
      "Serpentine--\t\t\t\t--Library--\t\t\t\t--[1.96 2.12 2.33 2.44 2.51 5.56]\n",
      "Talc--\t\t\t\t--CRISM--\t\t\t\t--[1.91 2.24 2.31 2.39 2.47]\n",
      "Talc--\t\t\t\t--Library--\t\t\t\t--[1.91 2.23 2.32 2.39 2.47]\n"
     ]
    }
   ],
   "source": [
    "#print all phyllosilicate samples that weren't plotted\n",
    "print(\"Phyllosilicate samples plotted are:-\\n\\n\")\n",
    "for i in plottedPhyllosilicateSamples:\n",
    "    print(f\"{i.mineralSpecies}--\\t\\t\\t\\t--{i.sampleType}--\\t\\t\\t\\t--{i.bandCentres}\")"
   ]
  },
  {
   "cell_type": "code",
   "execution_count": 28,
   "id": "36d2371a",
   "metadata": {},
   "outputs": [
    {
     "name": "stdout",
     "output_type": "stream",
     "text": [
      "carbonate samples not plotted are:-\n",
      "\n",
      "\n"
     ]
    }
   ],
   "source": [
    "#print all carboante samples that weren't plotted\n",
    "print(\"carbonate samples not plotted are:-\\n\\n\")\n",
    "for i in nonPlottedCarbonateSamples:\n",
    "    print(f\"{i.mineralSpecies}--\\t\\t\\t\\t--{i.sampleType}--\\t\\t\\t\\t--{i.bandCentres}\")"
   ]
  },
  {
   "cell_type": "code",
   "execution_count": 29,
   "id": "71503789",
   "metadata": {},
   "outputs": [
    {
     "name": "stdout",
     "output_type": "stream",
     "text": [
      "carbonate samples plotted are:-\n",
      "\n",
      "\n",
      "Fe/Ca carbonate--\t\t\t\t--CRISM--\t\t\t\t--[2.34 2.53 3.48 3.84]\n",
      "Fe/Ca carbonate--\t\t\t\t--Library--\t\t\t\t--[2.34 2.53 2.79 3.35 3.48 3.85]\n",
      "Mg Carbonate--\t\t\t\t--CRISM--\t\t\t\t--[2.31 2.51 3.46 3.84]\n",
      "Mg Carbonate--\t\t\t\t--Library--\t\t\t\t--[2.31 2.5  3.27 3.43 3.8 ]\n"
     ]
    }
   ],
   "source": [
    "#print all carbonate samples that were plotted\n",
    "print(\"carbonate samples plotted are:-\\n\\n\")\n",
    "for i in plottedCarbonateSamples:\n",
    "    print(f\"{i.mineralSpecies}--\\t\\t\\t\\t--{i.sampleType}--\\t\\t\\t\\t--{i.bandCentres}\")"
   ]
  },
  {
   "cell_type": "code",
   "execution_count": 30,
   "id": "f53a4ef2",
   "metadata": {},
   "outputs": [],
   "source": [
    "#collect the garbage\n",
    "del phyllosilicateMICASamples\n",
    "del carbonateMICASamples\n",
    "del nonPlottedCarbonateSamples\n",
    "del plottedCarbonateSamples\n",
    "del plottedPhyllosilicateSamples\n",
    "del nonPlottedPhyllosilicateSamples\n",
    "collectedItems=gc.collect()"
   ]
  },
  {
   "cell_type": "code",
   "execution_count": 31,
   "id": "316e5187",
   "metadata": {},
   "outputs": [],
   "source": [
    "#read the phyllosilicate informtion\n",
    "postSerpentineSamples=pd.read_excel(\"G:/Serpentine Post 2000.xlsx\",sheet_name=\"Serpentine\")"
   ]
  },
  {
   "cell_type": "code",
   "execution_count": 32,
   "id": "935c80d8",
   "metadata": {},
   "outputs": [],
   "source": [
    "#define a class to hold Post 2000 samples\n",
    "class PostSample:\n",
    "    #create a constructor\n",
    "    def __init__(self,sampleName,mineral,bandCentres):\n",
    "        #set variable to hold sample name\n",
    "        self.sampleName=sampleName\n",
    "        #set variable to hold which mineral\n",
    "        self.mineral=mineral\n",
    "        #set variable to hold the bandCentres\n",
    "        self.bandCentres=bandCentres"
   ]
  },
  {
   "cell_type": "code",
   "execution_count": 33,
   "id": "af0d8c9e",
   "metadata": {},
   "outputs": [],
   "source": [
    "#create a list to hold all Post serpentine samples\n",
    "allPostSerpentineSamples=[]\n",
    "#iterate through serpentine dataframe and add samples to the list\n",
    "for index, row in postSerpentineSamples.iterrows():\n",
    "    #get the band centres\n",
    "    bandCentres=[]\n",
    "    for i in range(2,16):\n",
    "        if row[i]==row[i]:#ensure the number is not NaN\n",
    "            bandCentres.append(10000000/(float(row[i])*1000))\n",
    "    #create an object\n",
    "    currentSample=PostSample(row['Sample Name'],\n",
    "                             row['Mineral '],\n",
    "                             np.array(sorted(bandCentres)))\n",
    "    #add the object to the list of samples\n",
    "    allPostSerpentineSamples.append(currentSample)"
   ]
  },
  {
   "cell_type": "code",
   "execution_count": 34,
   "id": "b1c25113",
   "metadata": {},
   "outputs": [],
   "source": [
    "#set bounds for the 2.3 band centre i.e the first band centre in the range 2.27-2.36\n",
    "lowerBound23=2.27\n",
    "upperBound23=2.47\n",
    "\n",
    "\n",
    "#list to hold phyllosilicate samples that weren't plotted\n",
    "nonPlottedPhyllosilicateSamples=[]\n",
    "#list to hold phyllosilicate samples that were plotted\n",
    "plottedPhyllosilicateSamples=[]\n",
    "\n",
    "#lists to save band centres\n",
    "postPhyllosilicate23BandCentre=[]\n",
    "postPhyllosilicateNeighbourBandCentre=[]\n",
    "\n",
    "for i in allPostSerpentineSamples:\n",
    "    #get the band centres\n",
    "    bandCentres=i.bandCentres\n",
    "    #get the 2.3 and 2.5 micron band centres, if avialable check if crism or library spectra and append to that list\n",
    "    try:\n",
    "        feature23Index=np.where(np.logical_and(bandCentres<=upperBound23,\n",
    "                                                         bandCentres>=lowerBound23))[0][0]\n",
    "        postPhyllosilicate23BandCentre.append(bandCentres[feature23Index])\n",
    "        postPhyllosilicateNeighbourBandCentre.append(bandCentres[feature23Index+1])\n",
    "        plottedPhyllosilicateSamples.append(i)\n",
    "    except:\n",
    "        nonPlottedPhyllosilicateSamples.append(i)\n",
    "postPhyllosilicate23BandCentre=np.array(postPhyllosilicate23BandCentre)\n",
    "postPhyllosilicateNeighbourBandCentre=np.array(postPhyllosilicate23BandCentre)"
   ]
  },
  {
   "cell_type": "code",
   "execution_count": 35,
   "id": "30a5d258",
   "metadata": {},
   "outputs": [
    {
     "name": "stdout",
     "output_type": "stream",
     "text": [
      "Phyllosilicate samples not plotted are:-\n",
      "\n",
      "\n"
     ]
    }
   ],
   "source": [
    "#print all phyllosilicate samples that weren't plotted\n",
    "print(\"Phyllosilicate samples not plotted are:-\\n\\n\")\n",
    "for i in nonPlottedPhyllosilicateSamples:\n",
    "    print(f\"{i.sampleName}--\\t\\t\\t\\t--{i.mineral}--\\t\\t\\t\\t--{i.bandCentres}\")"
   ]
  },
  {
   "cell_type": "code",
   "execution_count": 36,
   "id": "342e7cc9",
   "metadata": {},
   "outputs": [
    {
     "name": "stdout",
     "output_type": "stream",
     "text": [
      "Phyllosilicate samples plotted are:-\n",
      "\n",
      "\n",
      "Clinochrysotile 22--\t\t\t\t--Clinochrysotile--\t\t\t\t--[2.31696015 2.32450023 2.33754091 2.37416904 2.37812128 2.39750659\n",
      " 2.42189392 2.4348673  2.45098039 2.70929287 2.73897562]\n",
      "Clinochrysotile 23--\t\t\t\t--Clinochrysotile--\t\t\t\t--[2.3174971  2.32504069 2.33808744 2.38095238 2.40269101 2.42895312\n",
      " 2.47954376 2.51256281 2.58131131 2.70709258 2.73972603]\n",
      "Clinochrysotile 95--\t\t\t\t--Clinochrysotile--\t\t\t\t--[2.3174971  2.3255814  2.33754091 2.37135404 2.37755587 2.39463602\n",
      " 2.43309002 2.44200244 2.48015873 2.50815149 2.55493102 2.70562771\n",
      " 2.71296799 2.74197971]\n",
      "Clinochrysotile 96--\t\t\t\t--Clinochrysotile--\t\t\t\t--[2.32504069 2.33590283 2.37473284 2.40096038 2.41954996 2.4378352\n",
      " 2.46974562 2.51004016 2.55754476 2.70855905 2.71370421 2.73897562]\n",
      "Lizardite 11--\t\t\t\t--Lizardite--\t\t\t\t--[2.32396003 2.33699462 2.38265428 2.44021474 2.4600246  2.50941029\n",
      " 2.55950857 2.70855905 2.71370421 2.73747605]\n",
      "Lizardite 51--\t\t\t\t--Lizardite--\t\t\t\t--[2.31696015 2.32396003 2.33535731 2.37868696 2.44678248 2.51635632\n",
      " 2.5733402  2.7100271  2.7203482  2.73822563]\n",
      "Lizardite-Orthochrysotile 42--\t\t\t\t--Lizardite-Orthochrysotile--\t\t\t\t--[2.3174971  2.32450023 2.33535731 2.37304224 2.39865675 2.4354603\n",
      " 2.48015873 2.50752257 2.55754476 2.70855905 2.73822563]\n",
      "Picrolite 2--\t\t\t\t--Picrolite--\t\t\t\t--[1.01276079 2.31696015 2.32504069 2.33590283 2.38322212 2.42424242\n",
      " 2.45218244 2.49190132 2.51256281 2.71076172 2.72108844 2.73897562]\n",
      "Antigorite 3--\t\t\t\t--Antigorite--\t\t\t\t--[2.3174971  2.32612235 2.33863424 2.38322212 2.42541838 2.45338567\n",
      " 2.49376559 2.51572327 2.56871307 2.71223217 2.72108844 2.73897562]\n",
      "Antigorite 6--\t\t\t\t--Antigorite--\t\t\t\t--[2.31910946 2.32504069 2.34082397 2.38322212 2.42248062 2.44917952\n",
      " 2.51509054 2.57466529 2.7100271  2.7203482  2.73897562]\n",
      "Antigorite 99--\t\t\t\t--Antigorite--\t\t\t\t--[2.31588698 2.32504069 2.33863424 2.38208671 2.42541838 2.45278391\n",
      " 2.5        2.51825737 2.56805342 2.70489586 2.72108844 2.73822563]\n"
     ]
    }
   ],
   "source": [
    "#print all phyllosilicate samples that weren't plotted\n",
    "print(\"Phyllosilicate samples plotted are:-\\n\\n\")\n",
    "for i in plottedPhyllosilicateSamples:\n",
    "    print(f\"{i.sampleName}--\\t\\t\\t\\t--{i.mineral}--\\t\\t\\t\\t--{i.bandCentres}\")"
   ]
  },
  {
   "cell_type": "code",
   "execution_count": 37,
   "id": "8c8d3587",
   "metadata": {},
   "outputs": [],
   "source": [
    "#define a class to hold Post 2000 samples\n",
    "class BishopNitrateSample:\n",
    "    #create a constructor\n",
    "    def __init__(self,sampleName,mineral,bandCentres):\n",
    "        #set variable to hold sample name\n",
    "        self.sampleName=sampleName\n",
    "        #set variable to hold which mineral\n",
    "        self.mineral=mineral\n",
    "        #set variable to hold the bandCentres\n",
    "        self.bandCentres=bandCentres"
   ]
  },
  {
   "cell_type": "code",
   "execution_count": 38,
   "id": "c0ee9bfc",
   "metadata": {},
   "outputs": [],
   "source": [
    "#read the csv file\n",
    "rows=[]\n",
    "#create list to hold nitrate samples\n",
    "nitrateSamples=[]\n",
    "#read the file and read all samples\n",
    "for row in reader(open(\"G:/Nitrate Absorption features - Sheet1.csv\")):\n",
    "    rows.append(row)\n",
    "    if row[0]!='' and row[0]!='Mineral':\n",
    "        mineral=row[0]\n",
    "        sampleName=row[1]\n",
    "        bandCentres=np.array(row[2:]).astype('float')\n",
    "        nitrateSamples.append(BishopNitrateSample(sampleName,mineral,bandCentres))"
   ]
  },
  {
   "cell_type": "code",
   "execution_count": 39,
   "id": "7225ed0a",
   "metadata": {},
   "outputs": [
    {
     "name": "stdout",
     "output_type": "stream",
     "text": [
      "Sample Name\t--\t2.3 Micron band centre\t--\t2.5 Micron band centre\n",
      "\n",
      "JB1583A\t\t--\t2.402\t\t\t--\t2.621\n",
      "JB997A\t\t--\t2.429\t\t\t--\t2.627\n",
      "JB1584A\t\t--\t2.428\t\t\t--\t2.627\n",
      "JB1585A\t\t--\t2.386\t\t\t--\t2.617\n",
      "JB1587A\t\t--\t2.472\t\t\t--\t2.665\n",
      "JB1586A\t\t--\t2.439\t\t\t--\t2.646\n",
      "JB998A\t\t--\t2.467\t\t\t--\t2.673\n"
     ]
    }
   ],
   "source": [
    "#create lists to hold nitrate band centres\n",
    "nitrateBandCentres23=[]\n",
    "nitrateBandCentres25=[]\n",
    "#print the details of each sample\n",
    "print(f\"Sample Name\\t--\\t2.3 Micron band centre\\t--\\t2.5 Micron band centre\\n\")\n",
    "#get band centres for all nitrates\n",
    "for i in nitrateSamples:\n",
    "    nitrateBandCentres23.append(i.bandCentres[0])\n",
    "    nitrateBandCentres25.append(i.bandCentres[1])\n",
    "    print(f\"{i.sampleName}\\t\\t--\\t{i.bandCentres[0]}\\t\\t\\t--\\t{i.bandCentres[1]}\")"
   ]
  },
  {
   "cell_type": "code",
   "execution_count": null,
   "id": "636d6202",
   "metadata": {},
   "outputs": [],
   "source": []
  },
  {
   "cell_type": "code",
   "execution_count": 40,
   "id": "37373d06",
   "metadata": {},
   "outputs": [],
   "source": [
    "#set marker size multiplier\n",
    "markerSizeMultiplier=8\n",
    "#set color and marker types\n",
    "phyllosilicateColor=\"red\"\n",
    "carbonateColor=\"blue\"\n",
    "libraryMarker=\"x\"\n",
    "crismMarker=\"*\"\n",
    "markerSize=50*markerSizeMultiplier\n",
    "#set color and marker types\n",
    "carbonateColor=\"blue\"\n",
    "bishop2021Marker=\"8\"\n",
    "gaffeyMarker=\"d\"\n",
    "bishop2021MarkerSize=50*markerSizeMultiplier\n",
    "gaffeyMarkerSize=50*markerSizeMultiplier\n",
    "#set color and marker types\n",
    "phyllosilicateColor=\"red\"\n",
    "bishopMarker=\"+\"\n",
    "bishopMarkerSize=50*markerSizeMultiplier\n",
    "bishop2009MarkerSize=50*markerSizeMultiplier\n",
    "postMarkerSize=50*markerSizeMultiplier\n",
    "postMarker=4*markerSizeMultiplier"
   ]
  },
  {
   "cell_type": "code",
   "execution_count": 41,
   "id": "8f4b2e1a",
   "metadata": {},
   "outputs": [
    {
     "ename": "NameError",
     "evalue": "name 'libraryMarkerSize' is not defined",
     "output_type": "error",
     "traceback": [
      "\u001b[1;31m---------------------------------------------------------------------------\u001b[0m",
      "\u001b[1;31mNameError\u001b[0m                                 Traceback (most recent call last)",
      "\u001b[1;32m~\\AppData\\Local\\Temp/ipykernel_11872/2630008859.py\u001b[0m in \u001b[0;36m<module>\u001b[1;34m\u001b[0m\n\u001b[0;32m     27\u001b[0m plt.scatter(libraryCarbonate23BandCentre,\n\u001b[0;32m     28\u001b[0m             \u001b[0mlibraryCarbonateNeighbourBandCentre\u001b[0m\u001b[1;33m,\u001b[0m\u001b[1;33m\u001b[0m\u001b[1;33m\u001b[0m\u001b[0m\n\u001b[1;32m---> 29\u001b[1;33m             \u001b[0ms\u001b[0m\u001b[1;33m=\u001b[0m\u001b[0mlibraryMarkerSize\u001b[0m\u001b[1;33m,\u001b[0m\u001b[1;33m\u001b[0m\u001b[1;33m\u001b[0m\u001b[0m\n\u001b[0m\u001b[0;32m     30\u001b[0m             \u001b[0mcolor\u001b[0m\u001b[1;33m=\u001b[0m\u001b[0mcarbonateColor\u001b[0m\u001b[1;33m,\u001b[0m\u001b[1;33m\u001b[0m\u001b[1;33m\u001b[0m\u001b[0m\n\u001b[0;32m     31\u001b[0m             \u001b[0mmarker\u001b[0m\u001b[1;33m=\u001b[0m\u001b[0mlibraryMarker\u001b[0m\u001b[1;33m,\u001b[0m\u001b[1;33m\u001b[0m\u001b[1;33m\u001b[0m\u001b[0m\n",
      "\u001b[1;31mNameError\u001b[0m: name 'libraryMarkerSize' is not defined"
     ]
    },
    {
     "data": {
      "image/png": "[encoded data removed]",
      "text/plain": [
       "<Figure size 1440x1440 with 1 Axes>"
      ]
     },
     "metadata": {
      "needs_background": "light"
     },
     "output_type": "display_data"
    }
   ],
   "source": [
    "#create a figure and plot the four sets of points\n",
    "plt.figure(figsize=(20,20))\n",
    "plt.title(\"~2.3  micron vs longer wavelength neighbour band centres\",fontsize=48)\n",
    "plt.xlabel(\"~2.3 micron Band Centre\",fontsize=44)\n",
    "plt.ylabel(\"Longer wavelength neighbour Band Centre\",fontsize=44)\n",
    "plt.xticks(fontsize=40)\n",
    "plt.yticks(fontsize=40)\n",
    "\n",
    "\n",
    "\n",
    "\n",
    "#plot the bishop 2021 carbonates\n",
    "plt.scatter(bishopCarbonate23BandCentre,\n",
    "            bishopCarbonate25BandCentre,\n",
    "            s=bishop2021MarkerSize,\n",
    "            color=carbonateColor,\n",
    "            marker=bishop2021Marker,\n",
    "            label=\"Bishop et al. (2021) Carbonates\")\n",
    "#plot the gaffey 1987 carbontes\n",
    "plt.scatter(gaffeyCarbonate23BandCentre,\n",
    "            gaffeyCarbonate25BandCentre,\n",
    "            s=gaffeyMarkerSize,\n",
    "            color=carbonateColor,\n",
    "            marker=gaffeyMarker,\n",
    "            label=\"Gaffey (1987) Carbonates\")\n",
    "#plot the library carbonates\n",
    "plt.scatter(libraryCarbonate23BandCentre,\n",
    "            libraryCarbonateNeighbourBandCentre,\n",
    "            s=libraryMarkerSize,\n",
    "            color=carbonateColor,\n",
    "            marker=libraryMarker,\n",
    "            label=\"Viviano-Beck et al. (2014) Lan carbonates\")\n",
    "#plot the CRISM carbonates\n",
    "plt.scatter(crismCarbonate23BandCentre,\n",
    "            crismCarbonateNeighbourBandCentre,\n",
    "            s=crismMarkerSize,\n",
    "            color=carbonateColor,\n",
    "            marker=crismMarker,\n",
    "            label=\"Viviano-Beck et al. (2014) CRISM carbonates\")\n",
    "#plot the library phyllosilicates\n",
    "plt.scatter(libraryPhyllosilicate23BandCentre,\n",
    "            libraryPhyllosilicateNeighbourBandCentre,\n",
    "            s=libraryMarkerSize,\n",
    "            color=phyllosilicateColor,\n",
    "            marker=libraryMarker,\n",
    "            label=\"Viviano-Beck et al. (2014) Lab Phyllosilicates\")\n",
    "#plot the CRISM phyllosilicates\n",
    "plt.scatter(crismPhyllosilicate23BandCentre,\n",
    "            crismPhyllosilicateNeighbourBandCentre,\n",
    "            s=crismMarkerSize,\n",
    "            color=phyllosilicateColor,\n",
    "            marker=crismMarker,\n",
    "            label=\"Viviano-Beck et al. (2014) CRISM Phyllosilicates\")\n",
    "\n",
    "#plot the Bishop 2009 phyllosilicates\n",
    "plt.scatter(bishopPhyllosilicate23BandCentre,\n",
    "            bishopPhyllosilicateNeighbourBandCentre,\n",
    "            s=bishop2009MarkerSize,\n",
    "            color=phyllosilicateColor,\n",
    "            marker=bishopMarker,\n",
    "            label=\"Bishop et al. (2009) Phyllosilicates\")\n",
    "\n",
    "\n",
    "#plt.grid(which=\"both\")\n",
    "plt.legend(loc=\"best\",fontsize=48,framealpha=1)"
   ]
  },
  {
   "cell_type": "code",
   "execution_count": 135,
   "id": "fa0d4ec6",
   "metadata": {},
   "outputs": [
    {
     "data": {
      "image/png": "[encoded data removed]",
      "text/plain": [
       "<Figure size 2160x432 with 1 Axes>"
      ]
     },
     "metadata": {
      "needs_background": "light"
     },
     "output_type": "display_data"
    }
   ],
   "source": [
    "#create a figure and plot the four sets of points\n",
    "plt.figure(figsize=(30,6))\n",
    "plt.title(\"2.3  micron & next Absorption Feature Inter-band-gap\",fontsize=48)\n",
    "plt.ylabel(\"Mineral\",fontsize=44)\n",
    "plt.xlabel(\"Inter-band gap\",fontsize=44)\n",
    "plt.xticks(fontsize=40)\n",
    "plt.yticks(fontsize=40)\n",
    "\n",
    "\n",
    "#plot the Bishop 2009 phyllosilicates\n",
    "plt.scatter(abs(bishopPhyllosilicate23BandCentre-bishopPhyllosilicateNeighbourBandCentre),\n",
    "            [\"Phyllosilicates\"]*len(bishopPhyllosilicate23BandCentre),\n",
    "            s=bishop2009MarkerSize,\n",
    "            color=phyllosilicateColor,\n",
    "            marker=bishop2009Marker,\n",
    "            label=\"Bishop 2009 Phyllosilicates\")\n",
    "'''#plot the Post 2000 phyllosilicates\n",
    "plt.scatter(abs(postPhyllosilicate23BandCentre-postPhyllosilicateNeighbourBandCentre),\n",
    "            [\"Phyllosilicates\"]*len(postPhyllosilicate23BandCentre),\n",
    "            s=post2000MarkerSize,\n",
    "            color=phyllosilicateColor,\n",
    "            marker=post2000Marker,\n",
    "            label=\"Post 2000 Phyllosilicates\")'''\n",
    "#plot the library phyllosilicates\n",
    "plt.scatter(np.abs(libraryPhyllosilicate23BandCentre-libraryPhyllosilicateNeighbourBandCentre),\n",
    "            [\"Phyllosilicates\"]*len(libraryPhyllosilicate23BandCentre),\n",
    "            s=libraryMarkerSize,\n",
    "            color=phyllosilicateColor,\n",
    "            marker=libraryMarker,\n",
    "            label=\"Library MICA Phyllosilicates\")\n",
    "#plot the CRISM phyllosilicates\n",
    "plt.scatter(np.abs(crismPhyllosilicate23BandCentre-crismPhyllosilicateNeighbourBandCentre),\n",
    "            [\"Phyllosilicates\"]*len(crismPhyllosilicate23BandCentre),\n",
    "            s=crismMarkerSize,\n",
    "            color=phyllosilicateColor,\n",
    "            marker=crismMarker,\n",
    "            label=\"CRISM MICA Phyllosilicates\")\n",
    "\n",
    "#plot the library carbonates\n",
    "plt.scatter(np.abs(libraryCarbonate23BandCentre-libraryCarbonateNeighbourBandCentre),\n",
    "            [\"Carbonates\"]*len(libraryCarbonate23BandCentre),\n",
    "            s=libraryMarkerSize,\n",
    "            color=carbonateColor,\n",
    "            marker=libraryMarker,\n",
    "            label=\"Library MICA carbonates\")\n",
    "#plot the CRISM carbonates\n",
    "plt.scatter(np.abs(crismCarbonate23BandCentre-crismCarbonateNeighbourBandCentre),\n",
    "            [\"Carbonates\"]*len(crismCarbonate23BandCentre),\n",
    "            s=crismMarkerSize,\n",
    "            color=carbonateColor,\n",
    "            marker=crismMarker,\n",
    "            label=\"CRISM MICA carbonates\")\n",
    "\n",
    "#plot the bishop 2021 carbonates\n",
    "plt.scatter(np.abs(bishopCarbonate23BandCentre-bishopCarbonate25BandCentre),\n",
    "            [\"Carbonates\"]*len(bishopCarbonate23BandCentre),\n",
    "            s=bishop2021MarkerSize,\n",
    "            color=carbonateColor,\n",
    "            marker=bishop2021Marker,\n",
    "            label=\"Bishop 2021 Carbonates\")\n",
    "#plot the gaffey 1987 carbontes\n",
    "plt.scatter(abs(gaffeyCarbonate23BandCentre-gaffeyCarbonate25BandCentre),\n",
    "            [\"Carbonates\"]*len(gaffeyCarbonate23BandCentre),\n",
    "            s=gaffeyMarkerSize,\n",
    "            color=carbonateColor,\n",
    "            marker=gaffeyMarker,\n",
    "            label=\"Gaffey 1987 Carbonates\")\n",
    "\n",
    "#combine all CO3 IBGs into 1 array\n",
    "carbonateIBGs=np.concatenate((abs(gaffeyCarbonate23BandCentre-gaffeyCarbonate25BandCentre),\n",
    "                  np.abs(bishopCarbonate23BandCentre-bishopCarbonate25BandCentre),\n",
    "                  np.abs(crismCarbonate23BandCentre-crismCarbonateNeighbourBandCentre),\n",
    "                   np.abs(libraryCarbonate23BandCentre-libraryCarbonateNeighbourBandCentre)))\n",
    "\n",
    "\n",
    "'''#add demarcationline\n",
    "plt.vlines(x=0.18,ymin=-0.2,ymax=1.02,color=\"black\",lw=2)'''\n",
    "\n",
    "plt.margins(x=0.1,y=0.35)\n",
    "#plt.grid(which=\"both\")\n",
    "#plt.legend(loc=\"upper left\",fontsize=10)"
   ]
  },
  {
   "cell_type": "code",
   "execution_count": 39,
   "id": "4df556f3",
   "metadata": {},
   "outputs": [],
   "source": [
    "2#create a list of all carbonates\n",
    "allCarbonate23BandCentre=np.concatenate((libraryCarbonate23BandCentre,\n",
    "                                       crismCarbonate23BandCentre,\n",
    "                                       bishopCarbonate23BandCentre,\n",
    "                                       gaffeyCarbonate23BandCentre),axis=0)\n",
    "\n",
    "\n",
    "allCarbonate25BandCentre=np.concatenate((libraryCarbonateNeighbourBandCentre,\n",
    "                                       crismCarbonateNeighbourBandCentre,\n",
    "                                       bishopCarbonate25BandCentre,\n",
    "                                       gaffeyCarbonate25BandCentre),axis=0)"
   ]
  },
  {
   "cell_type": "code",
   "execution_count": 40,
   "id": "987eee6c",
   "metadata": {},
   "outputs": [
    {
     "name": "stdout",
     "output_type": "stream",
     "text": [
      "0.1889999999999996---0.21700000000000008\n"
     ]
    }
   ],
   "source": [
    "print(f\"{np.amin(carbonateIBGs)}---{np.amax(carbonateIBGs)}\")"
   ]
  },
  {
   "cell_type": "code",
   "execution_count": null,
   "id": "e05d8b25",
   "metadata": {},
   "outputs": [],
   "source": [
    "#create a figure and plot the four sets of points\n",
    "plt.figure(figsize=(20,20))\n",
    "plt.title(\"2.3  micron vs next band centres\",fontsize=48)\n",
    "plt.xlabel(\"2.3 micron Band Centre\",fontsize=44)\n",
    "plt.ylabel(\"Next Band Centre\",fontsize=44)\n",
    "plt.xticks(fontsize=40)\n",
    "plt.yticks(fontsize=40)\n",
    "\n",
    "\n",
    "\n",
    "\n",
    "#plot the bishop 2021 carbonates\n",
    "plt.scatter(bishopCarbonate23BandCentre,\n",
    "            bishopCarbonate25BandCentre,\n",
    "            s=bishop2021MarkerSize,\n",
    "            color=carbonateColor,\n",
    "            marker=bishop2021Marker,\n",
    "            label=\"Bishop et al. (2021) Carbonates\")\n",
    "#plot the gaffey 1987 carbontes\n",
    "plt.scatter(gaffeyCarbonate23BandCentre,\n",
    "            gaffeyCarbonate25BandCentre,\n",
    "            s=gaffeyMarkerSize,\n",
    "            color=carbonateColor,\n",
    "            marker=gaffeyMarker,\n",
    "            label=\"Gaffey (1987) Carbonates\")\n",
    "#plot the library carbonates\n",
    "plt.scatter(libraryCarbonate23BandCentre,\n",
    "            libraryCarbonateNeighbourBandCentre,\n",
    "            s=libraryMarkerSize,\n",
    "            color=carbonateColor,\n",
    "            marker=libraryMarker,\n",
    "            label=\"Viviano-Beck et al. (2014) Lan carbonates\")\n",
    "#plot the CRISM carbonates\n",
    "plt.scatter(crismCarbonate23BandCentre,\n",
    "            crismCarbonateNeighbourBandCentre,\n",
    "            s=crismMarkerSize,\n",
    "            color=carbonateColor,\n",
    "            marker=crismMarker,\n",
    "            label=\"Viviano-Beck et al. (2014) CRISM carbonates\")\n",
    "#plot the library phyllosilicates\n",
    "plt.scatter(libraryPhyllosilicate23BandCentre,\n",
    "            libraryPhyllosilicateNeighbourBandCentre,\n",
    "            s=libraryMarkerSize,\n",
    "            color=phyllosilicateColor,\n",
    "            marker=libraryMarker,\n",
    "            label=\"Viviano-Beck et al. (2014) Lab Phyllosilicates\")\n",
    "#plot the CRISM phyllosilicates\n",
    "plt.scatter(crismPhyllosilicate23BandCentre,\n",
    "            crismPhyllosilicateNeighbourBandCentre,\n",
    "            s=crismMarkerSize,\n",
    "            color=phyllosilicateColor,\n",
    "            marker=crismMarker,\n",
    "            label=\"Viviano-Beck et al. (2014) CRISM Phyllosilicates\")\n",
    "\n",
    "#plot the Bishop 2009 phyllosilicates\n",
    "plt.scatter(bishopPhyllosilicate23BandCentre,\n",
    "            bishopPhyllosilicateNeighbourBandCentre,\n",
    "            s=bishop2009MarkerSize,\n",
    "            color=phyllosilicateColor,\n",
    "            marker=bishop2009Marker,\n",
    "            label=\"Bishop et al. (2009) Phyllosilicates\")\n",
    "#plot the Post 2000 phyllosilicates\n",
    "plt.scatter(postPhyllosilicate23BandCentre,\n",
    "            postPhyllosilicateNeighbourBandCentre,\n",
    "            s=post2000MarkerSize,\n",
    "            color=phyllosilicateColor,\n",
    "            marker=post2000Marker,\n",
    "            label=\"Post 2000 Phyllosilicates\")\n",
    "\n",
    "#plt.grid(which=\"both\")\n",
    "#plt.legend(loc=\"best\",fontsize=48,framealpha=1)"
   ]
  }
 ],
 "metadata": {
  "kernelspec": {
   "display_name": "Python 3 (ipykernel)",
   "language": "python",
   "name": "python3"
  },
  "language_info": {
   "codemirror_mode": {
    "name": "ipython",
    "version": 3
   },
   "file_extension": ".py",
   "mimetype": "text/x-python",
   "name": "python",
   "nbconvert_exporter": "python",
   "pygments_lexer": "ipython3",
   "version": "3.10.2"
  }
 },
 "nbformat": 4,
 "nbformat_minor": 5
}
